{
  "cells": [
    {
      "cell_type": "code",
      "source": [
        "import torch\n",
        "import torch.nn as nn\n",
        "import torch.optim as optim\n",
        "from torchvision import datasets, transforms\n",
        "from google.colab import drive"
      ],
      "metadata": {
        "id": "dqRIUFnM3Tp2"
      },
      "execution_count": null,
      "outputs": []
    },
    {
      "cell_type": "code",
      "source": [],
      "metadata": {
        "id": "2LaH-42c5AES"
      },
      "execution_count": null,
      "outputs": []
    },
    {
      "cell_type": "code",
      "execution_count": null,
      "metadata": {
        "colab": {
          "base_uri": "https://localhost:8080/"
        },
        "id": "cSLMmtBASMZe",
        "outputId": "c880362f-85b6-4b80-e9cb-033ab37d8d50"
      },
      "outputs": [
        {
          "output_type": "stream",
          "name": "stdout",
          "text": [
            "Mounted at /content/drive\n"
          ]
        }
      ],
      "source": [
        "drive.mount('/content/drive')"
      ]
    },
    {
      "cell_type": "code",
      "source": [
        "# Define the L2-SVM loss function\n",
        "class L2SVM(nn.Module):\n",
        "    def __init__(self, C):\n",
        "        super(L2SVM, self).__init__()\n",
        "        self.C = C\n",
        "\n",
        "    def forward(self, input, target):\n",
        "        scores = input\n",
        "        correct_scores = scores.gather(1, target.view(-1, 1)).squeeze()\n",
        "        margins = torch.clamp(scores - correct_scores.view(-1, 1) + 1, min=0)\n",
        "        margins[target == -1] = 0\n",
        "        loss = margins.sum() * self.C\n",
        "        return loss\n",
        "\n",
        "# Define the ConvNet\n",
        "class ConvNet(nn.Module):\n",
        "    def __init__(self):\n",
        "        super(ConvNet, self).__init__()\n",
        "        self.conv1 = nn.Conv2d(3, 32, kernel_size=5, stride=1, padding=2)\n",
        "        self.conv2 = nn.Conv2d(32, 64, kernel_size=5, stride=1, padding=2)\n",
        "        self.pool = nn.MaxPool2d(kernel_size=2, stride=2)\n",
        "        self.fc1 = nn.Linear(64 * 8 * 8, 3072)\n",
        "        self.fc2 = nn.Linear(3072, 10)\n",
        "        self.dropout = nn.Dropout(p=0.2)\n",
        "\n",
        "    def forward(self, x):\n",
        "        x = self.pool(torch.relu(self.conv1(x)))\n",
        "        x = self.pool(torch.relu(self.conv2(x)))\n",
        "        x = x.view(-1, 64 * 8 * 8)\n",
        "        x = torch.relu(self.fc1(x))\n",
        "        x = self.dropout(x)\n",
        "        x = self.fc2(x)\n",
        "        return x"
      ],
      "metadata": {
        "id": "38k_ViPj36x7"
      },
      "execution_count": null,
      "outputs": []
    },
    {
      "cell_type": "code",
      "source": [
        "# Load the CIFAR-10 dataset\n",
        "train_dataset = datasets.CIFAR10(root='./data', train=True, transform=transforms.ToTensor(), download=True)\n",
        "test_dataset = datasets.CIFAR10(root='./data', train=False, transform=transforms.ToTensor())\n",
        "\n",
        "# Create data loaders\n",
        "train_loader = torch.utils.data.DataLoader(train_dataset, batch_size=64, shuffle=True)\n",
        "test_loader = torch.utils.data.DataLoader(test_dataset, batch_size=64)"
      ],
      "metadata": {
        "colab": {
          "base_uri": "https://localhost:8080/"
        },
        "id": "3hF9f52Y4Jl1",
        "outputId": "fa9a0a9e-6e82-4b80-dbc6-2ca35d19ab08"
      },
      "execution_count": null,
      "outputs": [
        {
          "output_type": "stream",
          "name": "stdout",
          "text": [
            "Downloading https://www.cs.toronto.edu/~kriz/cifar-10-python.tar.gz to ./data/cifar-10-python.tar.gz\n"
          ]
        },
        {
          "output_type": "stream",
          "name": "stderr",
          "text": [
            "100%|██████████| 170498071/170498071 [00:01<00:00, 100322709.79it/s]\n"
          ]
        },
        {
          "output_type": "stream",
          "name": "stdout",
          "text": [
            "Extracting ./data/cifar-10-python.tar.gz to ./data\n"
          ]
        }
      ]
    },
    {
      "cell_type": "code",
      "execution_count": null,
      "metadata": {
        "colab": {
          "base_uri": "https://localhost:8080/"
        },
        "id": "3TcBpI7Hvf98",
        "outputId": "e2742ecd-c83a-4a69-d701-5a4c017e476b"
      },
      "outputs": [
        {
          "output_type": "stream",
          "name": "stdout",
          "text": [
            "Epoch: 1 \t Train Loss: 0.610031 \t Train Acc: 0.331220\n",
            "Epoch: 2 \t Train Loss: 0.420971 \t Train Acc: 0.473920\n",
            "Epoch: 3 \t Train Loss: 0.367801 \t Train Acc: 0.532040\n",
            "Epoch: 4 \t Train Loss: 0.332594 \t Train Acc: 0.572480\n",
            "Epoch: 5 \t Train Loss: 0.302932 \t Train Acc: 0.608260\n",
            "Epoch: 6 \t Train Loss: 0.279283 \t Train Acc: 0.639640\n",
            "Epoch: 7 \t Train Loss: 0.257916 \t Train Acc: 0.669580\n",
            "Epoch: 8 \t Train Loss: 0.238465 \t Train Acc: 0.697760\n",
            "Epoch: 9 \t Train Loss: 0.220720 \t Train Acc: 0.725420\n",
            "Epoch: 10 \t Train Loss: 0.203562 \t Train Acc: 0.749700\n",
            "Epoch: 11 \t Train Loss: 0.186643 \t Train Acc: 0.779600\n",
            "Epoch: 12 \t Train Loss: 0.172076 \t Train Acc: 0.809220\n",
            "Epoch: 13 \t Train Loss: 0.160767 \t Train Acc: 0.833700\n",
            "Epoch: 14 \t Train Loss: 0.149556 \t Train Acc: 0.861320\n",
            "Epoch: 15 \t Train Loss: 0.141085 \t Train Acc: 0.882540\n",
            "Epoch: 16 \t Train Loss: 0.132993 \t Train Acc: 0.903800\n",
            "Epoch: 17 \t Train Loss: 0.126861 \t Train Acc: 0.923180\n",
            "Epoch: 18 \t Train Loss: 0.121836 \t Train Acc: 0.937200\n",
            "Epoch: 19 \t Train Loss: 0.118061 \t Train Acc: 0.949040\n",
            "Epoch: 20 \t Train Loss: 0.115037 \t Train Acc: 0.957920\n",
            "Epoch: 21 \t Train Loss: 0.112411 \t Train Acc: 0.966240\n",
            "Epoch: 22 \t Train Loss: 0.110432 \t Train Acc: 0.972880\n",
            "Epoch: 23 \t Train Loss: 0.108787 \t Train Acc: 0.977460\n",
            "Epoch: 24 \t Train Loss: 0.107419 \t Train Acc: 0.981760\n",
            "Epoch: 25 \t Train Loss: 0.106317 \t Train Acc: 0.985540\n"
          ]
        }
      ],
      "source": [
        "# Initialize the model and loss function\n",
        "model = ConvNet()\n",
        "criterion = L2SVM(C=0.1)\n",
        "\n",
        "# Define the optimizer\n",
        "optimizer = optim.SGD(model.parameters(), lr=0.001, weight_decay=0.0005)\n",
        "\n",
        "# Train the model\n",
        "num_epochs = 25\n",
        "\n",
        "for epoch in range(num_epochs):\n",
        "    train_loss = 0\n",
        "    train_acc = 0\n",
        "    model.train()\n",
        "\n",
        "    for batch_idx, (data, target) in enumerate(train_loader):\n",
        "        optimizer.zero_grad()\n",
        "        output = model(data)\n",
        "        loss = criterion(output, target)\n",
        "        loss.backward()\n",
        "        optimizer.step()\n",
        "\n",
        "        train_loss += loss.item()\n",
        "        pred = output.argmax(dim=1, keepdim=True)\n",
        "        train_acc += pred.eq(target.view_as(pred)).sum().item()\n",
        "\n",
        "    train_loss /= len(train_loader.dataset)\n",
        "    train_acc /= len(train_loader.dataset)\n",
        "\n",
        "    print('Epoch: {} \\t Train Loss: {:.6f} \\t Train Acc: {:.6f}'.format(epoch+1, train_loss, train_acc))"
      ]
    },
    {
      "cell_type": "code",
      "execution_count": null,
      "metadata": {
        "id": "17jc9xPmB7Wb"
      },
      "outputs": [],
      "source": [
        "# Save the model\n",
        "PATH = '/content/drive/My Drive/COMP_551/cifa10_svm.pth'\n",
        "torch.save(model.state_dict(), PATH)\n"
      ]
    },
    {
      "cell_type": "code",
      "execution_count": null,
      "metadata": {
        "id": "e0ftEaYdCTnC",
        "colab": {
          "base_uri": "https://localhost:8080/"
        },
        "outputId": "0fa5a465-097b-4ee8-e8c6-8068dd769f64"
      },
      "outputs": [
        {
          "output_type": "execute_result",
          "data": {
            "text/plain": [
              "ConvNet(\n",
              "  (conv1): Conv2d(3, 32, kernel_size=(5, 5), stride=(1, 1), padding=(2, 2))\n",
              "  (conv2): Conv2d(32, 64, kernel_size=(5, 5), stride=(1, 1), padding=(2, 2))\n",
              "  (pool): MaxPool2d(kernel_size=2, stride=2, padding=0, dilation=1, ceil_mode=False)\n",
              "  (fc1): Linear(in_features=4096, out_features=3072, bias=True)\n",
              "  (fc2): Linear(in_features=3072, out_features=10, bias=True)\n",
              "  (dropout): Dropout(p=0.2, inplace=False)\n",
              ")"
            ]
          },
          "metadata": {},
          "execution_count": 7
        }
      ],
      "source": [
        "# Load the saved model\n",
        "PATH = 'model_cifar10_svm.pth'\n",
        "model = ConvNet()\n",
        "model.load_state_dict(torch.load('/content/drive/My Drive/COMP_551/cifa10_svm.pth'))\n",
        "model.eval()"
      ]
    },
    {
      "cell_type": "code",
      "execution_count": null,
      "metadata": {
        "colab": {
          "base_uri": "https://localhost:8080/"
        },
        "id": "h8K0EoyJKFbB",
        "outputId": "7be489d6-c00d-4463-8fda-8161f30e07e8"
      },
      "outputs": [
        {
          "output_type": "stream",
          "name": "stdout",
          "text": [
            "Test Loss: 0.266906 \t Test Acc: 0.704500\n"
          ]
        }
      ],
      "source": [
        "test_loss = 0\n",
        "test_acc = 0\n",
        "\n",
        "with torch.no_grad(): # Disable gradient computation\n",
        "    for data, target in test_loader:\n",
        "        output = model(data)\n",
        "        test_loss += criterion(output, target).item()\n",
        "        pred = output.argmax(dim=1, keepdim=True)\n",
        "        test_acc += pred.eq(target.view_as(pred)).sum().item()\n",
        "\n",
        "test_loss /= len(test_loader.dataset)\n",
        "test_acc /= len(test_loader.dataset)\n",
        "\n",
        "print('Test Loss: {:.6f} \\t Test Acc: {:.6f}'.format(test_loss, test_acc))\n"
      ]
    }
  ],
  "metadata": {
    "colab": {
      "provenance": []
    },
    "kernelspec": {
      "display_name": "Python 3",
      "name": "python3"
    },
    "language_info": {
      "name": "python"
    }
  },
  "nbformat": 4,
  "nbformat_minor": 0
}