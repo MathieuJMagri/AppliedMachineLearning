{
  "nbformat": 4,
  "nbformat_minor": 0,
  "metadata": {
    "colab": {
      "provenance": []
    },
    "kernelspec": {
      "name": "python3",
      "display_name": "Python 3"
    },
    "language_info": {
      "name": "python"
    },
    "gpuClass": "standard",
    "accelerator": "GPU",
    "widgets": {
      "application/vnd.jupyter.widget-state+json": {
        "5b507517dcf54b7e8c783cf367e44582": {
          "model_module": "@jupyter-widgets/controls",
          "model_name": "HBoxModel",
          "model_module_version": "1.5.0",
          "state": {
            "_dom_classes": [],
            "_model_module": "@jupyter-widgets/controls",
            "_model_module_version": "1.5.0",
            "_model_name": "HBoxModel",
            "_view_count": null,
            "_view_module": "@jupyter-widgets/controls",
            "_view_module_version": "1.5.0",
            "_view_name": "HBoxView",
            "box_style": "",
            "children": [
              "IPY_MODEL_4b4a43f0c1054982b256dc3ed1a94b1c",
              "IPY_MODEL_86fbc83e7f5c47debdbfc895d0774351",
              "IPY_MODEL_29a29af6574941d2af259d6fc99bb75b"
            ],
            "layout": "IPY_MODEL_c8e5c302449c496aa057bc4d148b6413"
          }
        },
        "4b4a43f0c1054982b256dc3ed1a94b1c": {
          "model_module": "@jupyter-widgets/controls",
          "model_name": "HTMLModel",
          "model_module_version": "1.5.0",
          "state": {
            "_dom_classes": [],
            "_model_module": "@jupyter-widgets/controls",
            "_model_module_version": "1.5.0",
            "_model_name": "HTMLModel",
            "_view_count": null,
            "_view_module": "@jupyter-widgets/controls",
            "_view_module_version": "1.5.0",
            "_view_name": "HTMLView",
            "description": "",
            "description_tooltip": null,
            "layout": "IPY_MODEL_027366267ff847a48e3d30adf5942b68",
            "placeholder": "​",
            "style": "IPY_MODEL_2c771a0f20874a849e099abb4350aed9",
            "value": "100%"
          }
        },
        "86fbc83e7f5c47debdbfc895d0774351": {
          "model_module": "@jupyter-widgets/controls",
          "model_name": "FloatProgressModel",
          "model_module_version": "1.5.0",
          "state": {
            "_dom_classes": [],
            "_model_module": "@jupyter-widgets/controls",
            "_model_module_version": "1.5.0",
            "_model_name": "FloatProgressModel",
            "_view_count": null,
            "_view_module": "@jupyter-widgets/controls",
            "_view_module_version": "1.5.0",
            "_view_name": "ProgressView",
            "bar_style": "success",
            "description": "",
            "description_tooltip": null,
            "layout": "IPY_MODEL_85fae3a232c64b798168998ea717d157",
            "max": 170498071,
            "min": 0,
            "orientation": "horizontal",
            "style": "IPY_MODEL_1b3b003413f44098b9c004e1f0e8df7a",
            "value": 170498071
          }
        },
        "29a29af6574941d2af259d6fc99bb75b": {
          "model_module": "@jupyter-widgets/controls",
          "model_name": "HTMLModel",
          "model_module_version": "1.5.0",
          "state": {
            "_dom_classes": [],
            "_model_module": "@jupyter-widgets/controls",
            "_model_module_version": "1.5.0",
            "_model_name": "HTMLModel",
            "_view_count": null,
            "_view_module": "@jupyter-widgets/controls",
            "_view_module_version": "1.5.0",
            "_view_name": "HTMLView",
            "description": "",
            "description_tooltip": null,
            "layout": "IPY_MODEL_0df6ddc3be4b47f88e240b2e7f2284ac",
            "placeholder": "​",
            "style": "IPY_MODEL_e05c25e89b504f2e9104d3f40fc7df1d",
            "value": " 170498071/170498071 [00:03&lt;00:00, 48742933.14it/s]"
          }
        },
        "c8e5c302449c496aa057bc4d148b6413": {
          "model_module": "@jupyter-widgets/base",
          "model_name": "LayoutModel",
          "model_module_version": "1.2.0",
          "state": {
            "_model_module": "@jupyter-widgets/base",
            "_model_module_version": "1.2.0",
            "_model_name": "LayoutModel",
            "_view_count": null,
            "_view_module": "@jupyter-widgets/base",
            "_view_module_version": "1.2.0",
            "_view_name": "LayoutView",
            "align_content": null,
            "align_items": null,
            "align_self": null,
            "border": null,
            "bottom": null,
            "display": null,
            "flex": null,
            "flex_flow": null,
            "grid_area": null,
            "grid_auto_columns": null,
            "grid_auto_flow": null,
            "grid_auto_rows": null,
            "grid_column": null,
            "grid_gap": null,
            "grid_row": null,
            "grid_template_areas": null,
            "grid_template_columns": null,
            "grid_template_rows": null,
            "height": null,
            "justify_content": null,
            "justify_items": null,
            "left": null,
            "margin": null,
            "max_height": null,
            "max_width": null,
            "min_height": null,
            "min_width": null,
            "object_fit": null,
            "object_position": null,
            "order": null,
            "overflow": null,
            "overflow_x": null,
            "overflow_y": null,
            "padding": null,
            "right": null,
            "top": null,
            "visibility": null,
            "width": null
          }
        },
        "027366267ff847a48e3d30adf5942b68": {
          "model_module": "@jupyter-widgets/base",
          "model_name": "LayoutModel",
          "model_module_version": "1.2.0",
          "state": {
            "_model_module": "@jupyter-widgets/base",
            "_model_module_version": "1.2.0",
            "_model_name": "LayoutModel",
            "_view_count": null,
            "_view_module": "@jupyter-widgets/base",
            "_view_module_version": "1.2.0",
            "_view_name": "LayoutView",
            "align_content": null,
            "align_items": null,
            "align_self": null,
            "border": null,
            "bottom": null,
            "display": null,
            "flex": null,
            "flex_flow": null,
            "grid_area": null,
            "grid_auto_columns": null,
            "grid_auto_flow": null,
            "grid_auto_rows": null,
            "grid_column": null,
            "grid_gap": null,
            "grid_row": null,
            "grid_template_areas": null,
            "grid_template_columns": null,
            "grid_template_rows": null,
            "height": null,
            "justify_content": null,
            "justify_items": null,
            "left": null,
            "margin": null,
            "max_height": null,
            "max_width": null,
            "min_height": null,
            "min_width": null,
            "object_fit": null,
            "object_position": null,
            "order": null,
            "overflow": null,
            "overflow_x": null,
            "overflow_y": null,
            "padding": null,
            "right": null,
            "top": null,
            "visibility": null,
            "width": null
          }
        },
        "2c771a0f20874a849e099abb4350aed9": {
          "model_module": "@jupyter-widgets/controls",
          "model_name": "DescriptionStyleModel",
          "model_module_version": "1.5.0",
          "state": {
            "_model_module": "@jupyter-widgets/controls",
            "_model_module_version": "1.5.0",
            "_model_name": "DescriptionStyleModel",
            "_view_count": null,
            "_view_module": "@jupyter-widgets/base",
            "_view_module_version": "1.2.0",
            "_view_name": "StyleView",
            "description_width": ""
          }
        },
        "85fae3a232c64b798168998ea717d157": {
          "model_module": "@jupyter-widgets/base",
          "model_name": "LayoutModel",
          "model_module_version": "1.2.0",
          "state": {
            "_model_module": "@jupyter-widgets/base",
            "_model_module_version": "1.2.0",
            "_model_name": "LayoutModel",
            "_view_count": null,
            "_view_module": "@jupyter-widgets/base",
            "_view_module_version": "1.2.0",
            "_view_name": "LayoutView",
            "align_content": null,
            "align_items": null,
            "align_self": null,
            "border": null,
            "bottom": null,
            "display": null,
            "flex": null,
            "flex_flow": null,
            "grid_area": null,
            "grid_auto_columns": null,
            "grid_auto_flow": null,
            "grid_auto_rows": null,
            "grid_column": null,
            "grid_gap": null,
            "grid_row": null,
            "grid_template_areas": null,
            "grid_template_columns": null,
            "grid_template_rows": null,
            "height": null,
            "justify_content": null,
            "justify_items": null,
            "left": null,
            "margin": null,
            "max_height": null,
            "max_width": null,
            "min_height": null,
            "min_width": null,
            "object_fit": null,
            "object_position": null,
            "order": null,
            "overflow": null,
            "overflow_x": null,
            "overflow_y": null,
            "padding": null,
            "right": null,
            "top": null,
            "visibility": null,
            "width": null
          }
        },
        "1b3b003413f44098b9c004e1f0e8df7a": {
          "model_module": "@jupyter-widgets/controls",
          "model_name": "ProgressStyleModel",
          "model_module_version": "1.5.0",
          "state": {
            "_model_module": "@jupyter-widgets/controls",
            "_model_module_version": "1.5.0",
            "_model_name": "ProgressStyleModel",
            "_view_count": null,
            "_view_module": "@jupyter-widgets/base",
            "_view_module_version": "1.2.0",
            "_view_name": "StyleView",
            "bar_color": null,
            "description_width": ""
          }
        },
        "0df6ddc3be4b47f88e240b2e7f2284ac": {
          "model_module": "@jupyter-widgets/base",
          "model_name": "LayoutModel",
          "model_module_version": "1.2.0",
          "state": {
            "_model_module": "@jupyter-widgets/base",
            "_model_module_version": "1.2.0",
            "_model_name": "LayoutModel",
            "_view_count": null,
            "_view_module": "@jupyter-widgets/base",
            "_view_module_version": "1.2.0",
            "_view_name": "LayoutView",
            "align_content": null,
            "align_items": null,
            "align_self": null,
            "border": null,
            "bottom": null,
            "display": null,
            "flex": null,
            "flex_flow": null,
            "grid_area": null,
            "grid_auto_columns": null,
            "grid_auto_flow": null,
            "grid_auto_rows": null,
            "grid_column": null,
            "grid_gap": null,
            "grid_row": null,
            "grid_template_areas": null,
            "grid_template_columns": null,
            "grid_template_rows": null,
            "height": null,
            "justify_content": null,
            "justify_items": null,
            "left": null,
            "margin": null,
            "max_height": null,
            "max_width": null,
            "min_height": null,
            "min_width": null,
            "object_fit": null,
            "object_position": null,
            "order": null,
            "overflow": null,
            "overflow_x": null,
            "overflow_y": null,
            "padding": null,
            "right": null,
            "top": null,
            "visibility": null,
            "width": null
          }
        },
        "e05c25e89b504f2e9104d3f40fc7df1d": {
          "model_module": "@jupyter-widgets/controls",
          "model_name": "DescriptionStyleModel",
          "model_module_version": "1.5.0",
          "state": {
            "_model_module": "@jupyter-widgets/controls",
            "_model_module_version": "1.5.0",
            "_model_name": "DescriptionStyleModel",
            "_view_count": null,
            "_view_module": "@jupyter-widgets/base",
            "_view_module_version": "1.2.0",
            "_view_name": "StyleView",
            "description_width": ""
          }
        }
      }
    }
  },
  "cells": [
    {
      "cell_type": "markdown",
      "source": [
        "# Pre-Trained Model 1:  DenseNet201 (pre-trained CNN from the Keras API)"
      ],
      "metadata": {
        "id": "NVuHJioWtWQ-"
      }
    },
    {
      "cell_type": "markdown",
      "source": [
        "Approach 1: Freeze the base DenseNet201 model, add a classifier head, and train the new model end-to-end using an “augmented” CIFAR10 dataset. Main model used for our analysis and report write up."
      ],
      "metadata": {
        "id": "10iIRXqcuUJU"
      }
    },
    {
      "cell_type": "code",
      "source": [
        "#3.6 for A2\n",
        "#Loadapre-trained model that you see fit(e.g.,aResNet)using existing libraries such as TensorFlow or PyTorch, and then freeze all the convolutional \n",
        "#layers and remove all the fully connected ones. Add a number of fully connected layers of your choice right after the convolutional layers. \n",
        "#Train only the fully connected layers of the pre-trained model on the CIFAR-10 dataset. How does this pre-trained model compare to the best \n",
        "#MLP in part 1 and to the regular CNN in part 5 in terms of the accuracy? How does it compare to the previous models in terms of the required \n",
        "#training time? Justify your choice of how many fully connected layers that you have added to the pre-trained model through careful experiments.\n",
        "\n",
        "#Pre-trained model 1 DenseNet201 (pre-trained CNN from the Keras API):\n",
        "#Source 1: https://medium.com/@pierre.beaujuge/classifying-images-from-the-cifar10-dataset-with-pre-trained-cnns-using-transfer-learning-9348f6d878a8\n",
        "#Source 2: https://keras.io/api/applications/\n",
        "#About a 50-60 minute runtime with 12-20 epochs and running with a colab GPU\n",
        "\n",
        "#Tensorflow is needed to import the DenseNet201 model\n",
        "import tensorflow as tf\n",
        "import tensorflow.keras as K\n",
        "import numpy as np\n",
        "import matplotlib.pyplot as plt\n",
        "%matplotlib inline\n",
        "\n",
        "#The below function is used to preprocess the data from CIFAR10 so it is usable for DenseNet201\n",
        "#the labels are one-hot encoded\n",
        "def preprocess_data(X, Y):\n",
        "    X = K.applications.densenet.preprocess_input(X)\n",
        "    Y = K.utils.to_categorical(Y)\n",
        "    return X, Y\n",
        "\n",
        "# load the 50,000 training images for training and 10,000 test images for testing and validation\n",
        "(x_train, y_train), (x_test, y_test) = K.datasets.cifar10.load_data()\n",
        "\n",
        "# This is where the data gets preprocessed\n",
        "x_train, y_train = preprocess_data(x_train, y_train)\n",
        "x_test, y_test = preprocess_data(x_test, y_test)\n"
      ],
      "metadata": {
        "colab": {
          "base_uri": "https://localhost:8080/"
        },
        "id": "n0ohijEatAcU",
        "outputId": "25ea5c3c-1832-4877-fd67-c94de6228601"
      },
      "execution_count": null,
      "outputs": [
        {
          "output_type": "stream",
          "name": "stdout",
          "text": [
            "Downloading data from https://www.cs.toronto.edu/~kriz/cifar-10-python.tar.gz\n",
            "170498071/170498071 [==============================] - 14s 0us/step\n"
          ]
        }
      ]
    },
    {
      "cell_type": "code",
      "source": [
        "#Weights are initialized as per the he et al. method\n",
        "initializer = K.initializers.he_normal()\n",
        "input_tensor = K.Input(shape=(32, 32, 3))\n",
        "\n",
        "#Resize images to the image size for which the network was pre-trained\n",
        "resized_images = K.layers.Lambda(lambda image: tf.image.resize(image, (224, 224)))(input_tensor)\n",
        "model = K.applications.DenseNet201(include_top=False,\n",
        "                                   weights='imagenet',\n",
        "                                   input_tensor=resized_images,\n",
        "                                   input_shape=(224, 224, 3),\n",
        "                                   pooling='max',\n",
        "                                   classes=1000)\n",
        "\n",
        "#The biases and weights of the base model are freezed here. \n",
        "for layer in model.layers:\n",
        "    layer.trainable = False\n",
        "output = model.layers[-1].output\n",
        "\n",
        "#Reshape the output feature map of the base model before passing the data on to the Dense layers of the classifier head\n",
        "flatten = K.layers.Flatten()\n",
        "output = flatten(output)\n",
        "layer_256 = K.layers.Dense(units=256,\n",
        "                           activation='elu',\n",
        "                           kernel_initializer=initializer,\n",
        "                           kernel_regularizer=K.regularizers.l2())\n",
        "output = layer_256(output)\n",
        "dropout = K.layers.Dropout(0.5)\n",
        "output = dropout(output)\n",
        "softmax = K.layers.Dense(units=10,\n",
        "                         activation='softmax',\n",
        "                         kernel_initializer=initializer,\n",
        "                         kernel_regularizer=K.regularizers.l2())\n",
        "output = softmax(output)\n",
        "model = K.models.Model(inputs=input_tensor, outputs=output)"
      ],
      "metadata": {
        "colab": {
          "base_uri": "https://localhost:8080/"
        },
        "id": "JLT4jwAmh2QH",
        "outputId": "a3cd273c-4b66-43ab-ec92-67f2cd9fb29c"
      },
      "execution_count": null,
      "outputs": [
        {
          "output_type": "stream",
          "name": "stdout",
          "text": [
            "Downloading data from https://storage.googleapis.com/tensorflow/keras-applications/densenet/densenet201_weights_tf_dim_ordering_tf_kernels_notop.h5\n",
            "74836368/74836368 [==============================] - 4s 0us/step\n"
          ]
        },
        {
          "output_type": "stream",
          "name": "stderr",
          "text": [
            "/usr/local/lib/python3.9/dist-packages/keras/initializers/initializers_v2.py:120: UserWarning: The initializer HeNormal is unseeded and being called multiple times, which will return identical values  each time (even if the initializer is unseeded). Please update your code to provide a seed to the initializer, or avoid using the same initalizer instance more than once.\n",
            "  warnings.warn(\n"
          ]
        }
      ]
    },
    {
      "cell_type": "code",
      "source": [
        "#Here, we compile the densely-connected head classifier with the base DenseNet201 model\n",
        "model.compile(\n",
        "         optimizer=K.optimizers.Adam(learning_rate=1e-4),\n",
        "         loss='categorical_crossentropy',\n",
        "         metrics=['accuracy'])\n",
        "\n",
        "#Reduce learning rate when val_accuracy has stopped improving, this will stop the runtime of the model so as we \n",
        "#do not use useless computation on a overfitted model\n",
        "lr_reduce = K.callbacks.ReduceLROnPlateau(monitor='val_accuracy',\n",
        "                                          factor=0.6,\n",
        "                                          patience=2,\n",
        "                                          verbose=1,\n",
        "                                          mode='max',\n",
        "                                          min_lr=1e-7)\n",
        "\n",
        "#Stop training when val_accuracy has stopped improving, this will stop the runtime of the model so as we \n",
        "#do not use useless computation on a overfitted model with lower accuracy\n",
        "early_stop = K.callbacks.EarlyStopping(monitor='val_accuracy',\n",
        "                                       patience=3,\n",
        "                                       verbose=1,\n",
        "                                       mode='max')\n",
        "\n",
        "#Callback to save the Keras model and (best) weights obtained on an epoch basis. \n",
        "#Here, the trained (compiled) model is saved in the current working directory as 'cifar10.h5'\n",
        "checkpoint = K.callbacks.ModelCheckpoint('cifar10.h5',\n",
        "                                         monitor='val_accuracy',\n",
        "                                         verbose=1,\n",
        "                                         save_weights_only=False,\n",
        "                                         save_best_only=True,\n",
        "                                         mode='max',\n",
        "                                         save_freq='epoch')\n",
        "\n",
        "train_datagen = K.preprocessing.image.ImageDataGenerator(horizontal_flip=True)\n",
        "\n",
        "train_generator = train_datagen.flow(x_train,\n",
        "                                     y_train,\n",
        "                                     batch_size=32)\n",
        "val_datagen = K.preprocessing.image.ImageDataGenerator(horizontal_flip=True)\n",
        "\n",
        "val_generator = val_datagen.flow(x_test,\n",
        "                                 y_test,\n",
        "                                 batch_size=32)\n",
        "train_steps_per_epoch = x_train.shape[0] // 32\n",
        "val_steps_per_epoch = x_test.shape[0] // 32\n",
        "\n",
        "history = model.fit(train_generator,\n",
        "                    steps_per_epoch=train_steps_per_epoch,\n",
        "                    validation_data=val_generator,\n",
        "                    validation_steps=val_steps_per_epoch,\n",
        "                    epochs=20,\n",
        "                    shuffle=True,\n",
        "                    callbacks=[lr_reduce, early_stop, checkpoint],\n",
        "                    verbose=1)"
      ],
      "metadata": {
        "colab": {
          "base_uri": "https://localhost:8080/"
        },
        "id": "7NtZFqd5ieVW",
        "outputId": "57715c79-8f69-456d-c7a0-c51c065026d7"
      },
      "execution_count": null,
      "outputs": [
        {
          "output_type": "stream",
          "name": "stdout",
          "text": [
            "Epoch 1/20\n",
            "1562/1562 [==============================] - ETA: 0s - loss: 3.5071 - accuracy: 0.7163\n",
            "Epoch 1: val_accuracy improved from -inf to 0.86118, saving model to cifar10.h5\n",
            "1562/1562 [==============================] - 304s 180ms/step - loss: 3.5071 - accuracy: 0.7163 - val_loss: 2.2318 - val_accuracy: 0.8612 - lr: 1.0000e-04\n",
            "Epoch 2/20\n",
            "1562/1562 [==============================] - ETA: 0s - loss: 2.0331 - accuracy: 0.8414\n",
            "Epoch 2: val_accuracy improved from 0.86118 to 0.88111, saving model to cifar10.h5\n",
            "1562/1562 [==============================] - 313s 200ms/step - loss: 2.0331 - accuracy: 0.8414 - val_loss: 1.6356 - val_accuracy: 0.8811 - lr: 1.0000e-04\n",
            "Epoch 3/20\n",
            "1562/1562 [==============================] - ETA: 0s - loss: 1.4820 - accuracy: 0.8689\n",
            "Epoch 3: val_accuracy improved from 0.88111 to 0.89103, saving model to cifar10.h5\n",
            "1562/1562 [==============================] - 275s 176ms/step - loss: 1.4820 - accuracy: 0.8689 - val_loss: 1.2288 - val_accuracy: 0.8910 - lr: 1.0000e-04\n",
            "Epoch 4/20\n",
            "1562/1562 [==============================] - ETA: 0s - loss: 1.1091 - accuracy: 0.8842\n",
            "Epoch 4: val_accuracy improved from 0.89103 to 0.89423, saving model to cifar10.h5\n",
            "1562/1562 [==============================] - 274s 176ms/step - loss: 1.1091 - accuracy: 0.8842 - val_loss: 0.9474 - val_accuracy: 0.8942 - lr: 1.0000e-04\n",
            "Epoch 5/20\n",
            "1562/1562 [==============================] - ETA: 0s - loss: 0.8599 - accuracy: 0.8912\n",
            "Epoch 5: val_accuracy improved from 0.89423 to 0.89904, saving model to cifar10.h5\n",
            "1562/1562 [==============================] - 313s 200ms/step - loss: 0.8599 - accuracy: 0.8912 - val_loss: 0.7535 - val_accuracy: 0.8990 - lr: 1.0000e-04\n",
            "Epoch 6/20\n",
            "1562/1562 [==============================] - ETA: 0s - loss: 0.6999 - accuracy: 0.8953\n",
            "Epoch 6: val_accuracy did not improve from 0.89904\n",
            "1562/1562 [==============================] - 311s 199ms/step - loss: 0.6999 - accuracy: 0.8953 - val_loss: 0.6419 - val_accuracy: 0.8936 - lr: 1.0000e-04\n",
            "Epoch 7/20\n",
            "1562/1562 [==============================] - ETA: 0s - loss: 0.5951 - accuracy: 0.8977\n",
            "Epoch 7: val_accuracy improved from 0.89904 to 0.90074, saving model to cifar10.h5\n",
            "1562/1562 [==============================] - 274s 176ms/step - loss: 0.5951 - accuracy: 0.8977 - val_loss: 0.5533 - val_accuracy: 0.9007 - lr: 1.0000e-04\n",
            "Epoch 8/20\n",
            "1562/1562 [==============================] - ETA: 0s - loss: 0.5296 - accuracy: 0.8999\n",
            "Epoch 8: val_accuracy did not improve from 0.90074\n",
            "1562/1562 [==============================] - 273s 175ms/step - loss: 0.5296 - accuracy: 0.8999 - val_loss: 0.5133 - val_accuracy: 0.8970 - lr: 1.0000e-04\n",
            "Epoch 9/20\n",
            "1562/1562 [==============================] - ETA: 0s - loss: 0.4874 - accuracy: 0.9008\n",
            "Epoch 9: ReduceLROnPlateau reducing learning rate to 5.999999848427251e-05.\n",
            "\n",
            "Epoch 9: val_accuracy did not improve from 0.90074\n",
            "1562/1562 [==============================] - 273s 175ms/step - loss: 0.4874 - accuracy: 0.9008 - val_loss: 0.4708 - val_accuracy: 0.8987 - lr: 1.0000e-04\n",
            "Epoch 10/20\n",
            "1562/1562 [==============================] - ETA: 0s - loss: 0.4461 - accuracy: 0.9059\n",
            "Epoch 10: val_accuracy did not improve from 0.90074\n",
            "1562/1562 [==============================] - 311s 199ms/step - loss: 0.4461 - accuracy: 0.9059 - val_loss: 0.4622 - val_accuracy: 0.8980 - lr: 6.0000e-05\n",
            "Epoch 10: early stopping\n"
          ]
        }
      ]
    },
    {
      "cell_type": "code",
      "source": [
        "#Plot accuracy of the model and its loss figures\n",
        "plt.figure(1, figsize = (15,8))\n",
        "plt.subplot(221)\n",
        "plt.plot(history.history['accuracy'])\n",
        "plt.plot(history.history['val_accuracy'])\n",
        "plt.title('model accuracy')\n",
        "plt.ylabel('accuracy')\n",
        "plt.xlabel('epoch')\n",
        "plt.legend(['train', 'valid'])\n",
        "plt.subplot(222)\n",
        "plt.plot(history.history['loss'])\n",
        "plt.plot(history.history['val_loss'])\n",
        "plt.title('model loss')\n",
        "plt.ylabel('loss')\n",
        "plt.xlabel('epoch')\n",
        "plt.legend(['train', 'valid'])\n",
        "plt.show()\n",
        "\n",
        "model.evaluate(x_test, y_test)"
      ],
      "metadata": {
        "colab": {
          "base_uri": "https://localhost:8080/",
          "height": 312
        },
        "id": "mi97MJoAsb4t",
        "outputId": "7fedf55d-73e5-4ebe-ecdb-7d57faad6654"
      },
      "execution_count": null,
      "outputs": [
        {
          "output_type": "display_data",
          "data": {
            "text/plain": [
              "<Figure size 1080x576 with 2 Axes>"
            ],
            "image/png": "[encoded data removed]"
          },
          "metadata": {
            "needs_background": "light"
          }
        },
        {
          "output_type": "stream",
          "name": "stdout",
          "text": [
            "313/313 [==============================] - 46s 146ms/step - loss: 0.4611 - accuracy: 0.8976\n"
          ]
        },
        {
          "output_type": "execute_result",
          "data": {
            "text/plain": [
              "[0.4611169397830963, 0.897599995136261]"
            ]
          },
          "metadata": {},
          "execution_count": 4
        }
      ]
    },
    {
      "cell_type": "markdown",
      "source": [
        "# Pre-Trained Model 2: DenseNet201 (pre-trained CNN from the Keras API)"
      ],
      "metadata": {
        "id": "S5XFC6xQup6Y"
      }
    },
    {
      "cell_type": "markdown",
      "source": [
        "Approach 2: Extract “bottleneck features” from the base DenseNet201 model, and use these to train the classifier head separately (w/o augmented dataset). This is the second, much faster approach. Results obtained were not great from our point of vue."
      ],
      "metadata": {
        "id": "60Kvo-_vuy02"
      }
    },
    {
      "cell_type": "code",
      "source": [
        "input_tensor = K.Input(shape=(32, 32, 3))\n",
        "#Resize images to the image size upon which the network was pre-trained\n",
        "resized_images = K.layers.Lambda(lambda image: tf.image.resize(image, (224, 224)))(input_tensor)\n",
        "base_model = K.applications.DenseNet201(include_top=False,\n",
        "                                        weights='imagenet',\n",
        "                                        input_tensor=resized_images,\n",
        "                                        input_shape=(224, 224, 3),\n",
        "                                        pooling='max',\n",
        "                                        classes=1000)\n",
        "output = base_model.layers[-1].output\n",
        "base_model = K.models.Model(inputs=input_tensor, outputs=output)"
      ],
      "metadata": {
        "id": "l2eK3wbdu35O"
      },
      "execution_count": null,
      "outputs": []
    },
    {
      "cell_type": "code",
      "source": [
        "#Using the training data\n",
        "train_datagen = K.preprocessing.image.ImageDataGenerator()\n",
        "train_generator = train_datagen.flow(x_train,\n",
        "                                     y_train,\n",
        "                                     batch_size=32,\n",
        "                                     shuffle=False)\n",
        "features_train = base_model.predict(train_generator)\n",
        "#Repeat the same operation with the test data (here used for validation)\n",
        "val_datagen = K.preprocessing.image.ImageDataGenerator()\n",
        "val_generator = val_datagen.flow(x_test,\n",
        "                                 y_test,\n",
        "                                 batch_size=32,\n",
        "                                 shuffle=False)\n",
        "features_valid = base_model.predict(val_generator)"
      ],
      "metadata": {
        "colab": {
          "base_uri": "https://localhost:8080/"
        },
        "id": "sCzZ0h_MvGuv",
        "outputId": "d9443290-07b2-4bc1-81fe-1dd3d2433e9c"
      },
      "execution_count": null,
      "outputs": [
        {
          "output_type": "stream",
          "name": "stdout",
          "text": [
            "1563/1563 [==============================] - 213s 134ms/step\n",
            "313/313 [==============================] - 42s 134ms/step\n"
          ]
        }
      ]
    },
    {
      "cell_type": "code",
      "source": [
        "#Weights are initialized as per the he et al. method\n",
        "initializer = K.initializers.he_normal()\n",
        "input_tensor = K.Input(shape=features_train.shape[1])\n",
        "layer_256 = K.layers.Dense(units=256,\n",
        "                           activation='elu',\n",
        "                           kernel_initializer=initializer,\n",
        "                           kernel_regularizer=K.regularizers.l2())\n",
        "output = layer_256(input_tensor)\n",
        "dropout = K.layers.Dropout(0.5)\n",
        "output = dropout(output)\n",
        "softmax = K.layers.Dense(units=10,\n",
        "                         activation='softmax',\n",
        "                         kernel_initializer=initializer,\n",
        "                         kernel_regularizer=K.regularizers.l2())\n",
        "output = softmax(output)\n",
        "model = K.models.Model(inputs=input_tensor, outputs=output)"
      ],
      "metadata": {
        "id": "gv4B_hi0vHWH"
      },
      "execution_count": null,
      "outputs": []
    },
    {
      "cell_type": "code",
      "source": [
        "model.compile(\n",
        "        optimizer=K.optimizers.Adam(learning_rate=1e4),\n",
        "        loss='categorical_crossentropy',\n",
        "        metrics=['accuracy'])"
      ],
      "metadata": {
        "id": "P20_5br3vMQm"
      },
      "execution_count": null,
      "outputs": []
    },
    {
      "cell_type": "code",
      "source": [
        "#Reduce learning rate when val_accuracy has stopped improving\n",
        "lr_reduce = K.callbacks.ReduceLROnPlateau(monitor='val_accuracy',\n",
        "                                          factor=0.6,\n",
        "                                          patience=2,\n",
        "                                          verbose=1,\n",
        "                                          mode='max',\n",
        "                                          min_lr=1e-7)\n",
        "#Stop training when val_accuracy has stopped improving\n",
        "early_stop = K.callbacks.EarlyStopping(monitor='val_accuracy',\n",
        "                                       patience=3,\n",
        "                                       verbose=1,\n",
        "                                       mode='max')\n",
        "#Callback to save the Keras model and (best) weights obtained on an epoch basis. here, the trained (compiled) model is saved in the current working directory as 'cifar10.h5'\n",
        "checkpoint = K.callbacks.ModelCheckpoint('cifar10.h5',\n",
        "                                         monitor='val_accuracy',\n",
        "                                         verbose=1,\n",
        "                                         save_weights_only=False,\n",
        "                                         save_best_only=True,\n",
        "                                         mode='max',\n",
        "                                         save_freq='epoch')"
      ],
      "metadata": {
        "id": "_ec_PBZ3vM1q"
      },
      "execution_count": null,
      "outputs": []
    },
    {
      "cell_type": "code",
      "source": [
        "history = model.fit(features_train, y_train,\n",
        "                    batch_size=32,\n",
        "                    epochs=20,\n",
        "                    verbose=1,\n",
        "                    callbacks=[lr_reduce, early_stop, checkpoint],\n",
        "                    validation_data=(features_valid, y_test),\n",
        "                    shuffle=True)"
      ],
      "metadata": {
        "colab": {
          "base_uri": "https://localhost:8080/"
        },
        "id": "SLSsjV0LvPWm",
        "outputId": "c02f4d89-316a-4a30-a75f-d0971c5ee107"
      },
      "execution_count": null,
      "outputs": [
        {
          "output_type": "stream",
          "name": "stdout",
          "text": [
            "Epoch 1/20\n",
            "1552/1563 [============================>.] - ETA: 0s - loss: 171706630144.0000 - accuracy: 0.0990\n",
            "Epoch 1: val_accuracy improved from -inf to 0.10000, saving model to cifar10.h5\n",
            "1563/1563 [==============================] - 7s 4ms/step - loss: 170558324736.0000 - accuracy: 0.0990 - val_loss: 815461184.0000 - val_accuracy: 0.1000 - lr: 10000.0000\n",
            "Epoch 2/20\n",
            "1550/1563 [============================>.] - ETA: 0s - loss: 17606330368.0000 - accuracy: 0.1014\n",
            "Epoch 2: val_accuracy did not improve from 0.10000\n",
            "1563/1563 [==============================] - 5s 3ms/step - loss: 18339905536.0000 - accuracy: 0.1014 - val_loss: 70855131136.0000 - val_accuracy: 0.1000 - lr: 10000.0000\n",
            "Epoch 3/20\n",
            "1554/1563 [============================>.] - ETA: 0s - loss: 8905139200.0000 - accuracy: 0.0995\n",
            "Epoch 3: ReduceLROnPlateau reducing learning rate to 6000.0.\n",
            "\n",
            "Epoch 3: val_accuracy did not improve from 0.10000\n",
            "1563/1563 [==============================] - 6s 4ms/step - loss: 8862675968.0000 - accuracy: 0.0998 - val_loss: 940864384.0000 - val_accuracy: 0.1000 - lr: 10000.0000\n",
            "Epoch 4/20\n",
            "1557/1563 [============================>.] - ETA: 0s - loss: 104062056.0000 - accuracy: 0.0998\n",
            "Epoch 4: val_accuracy did not improve from 0.10000\n",
            "1563/1563 [==============================] - 6s 4ms/step - loss: 104049608.0000 - accuracy: 0.0998 - val_loss: 96492416.0000 - val_accuracy: 0.1000 - lr: 6000.0000\n",
            "Epoch 4: early stopping\n"
          ]
        }
      ]
    },
    {
      "cell_type": "code",
      "source": [
        "#Plot of the results\n",
        "plt.figure(1, figsize = (15,8))\n",
        "plt.subplot(221)\n",
        "plt.plot(history.history['accuracy'])\n",
        "plt.plot(history.history['val_accuracy'])\n",
        "plt.title('model accuracy')\n",
        "plt.ylabel('accuracy')\n",
        "plt.xlabel('epoch')\n",
        "plt.legend(['train', 'valid'])\n",
        "plt.subplot(222)\n",
        "plt.plot(history.history['loss'])\n",
        "plt.plot(history.history['val_loss'])\n",
        "plt.title('model loss')\n",
        "plt.ylabel('loss')\n",
        "plt.xlabel('epoch')\n",
        "plt.legend(['train', 'valid'])\n",
        "plt.show()\n",
        "\n",
        "model.evaluate(features_valid, y_test)"
      ],
      "metadata": {
        "colab": {
          "base_uri": "https://localhost:8080/",
          "height": 312
        },
        "id": "KlQrwcCfvUEl",
        "outputId": "0f0ce48b-fc52-4ae6-bbcf-e9ec4840d0f6"
      },
      "execution_count": null,
      "outputs": [
        {
          "output_type": "display_data",
          "data": {
            "text/plain": [
              "<Figure size 1080x576 with 2 Axes>"
            ],
            "image/png": "[encoded data removed]"
          },
          "metadata": {
            "needs_background": "light"
          }
        },
        {
          "output_type": "stream",
          "name": "stdout",
          "text": [
            "313/313 [==============================] - 1s 2ms/step - loss: 96492416.0000 - accuracy: 0.1000\n"
          ]
        },
        {
          "output_type": "execute_result",
          "data": {
            "text/plain": [
              "[96492416.0, 0.10000000149011612]"
            ]
          },
          "metadata": {},
          "execution_count": 11
        }
      ]
    },
    {
      "cell_type": "markdown",
      "source": [
        "# Pre-trained Model 3: Resnet50"
      ],
      "metadata": {
        "id": "zCAKfPrl7-5a"
      }
    },
    {
      "cell_type": "code",
      "source": [
        "#Importing important libraries\n",
        "from tensorflow.keras.applications.resnet50 import ResNet50, preprocess_input\n",
        "import tensorflow.keras as keras\n",
        "from tensorflow.keras import models\n",
        "from tensorflow.keras import layers\n",
        "from tensorflow.keras import optimizers\n",
        "import tensorflow as tf\n",
        "from keras.utils import np_utils\n",
        "from keras.models import load_model\n",
        "from keras.datasets import cifar10\n",
        "from keras.preprocessing import image\n",
        "import numpy as np\n",
        "import matplotlib.pyplot as plt\n",
        "from PIL import Image\n",
        "import cv2\n",
        "\n",
        "#Loading ResNet50 with just the convolutional layers and not the dense layers \n",
        "#We train our new dataset on the new dense layers\n",
        "conv_base = ResNet50(weights='imagenet', include_top=False, input_shape=(256, 256, 3))\n",
        "#Load data directly from keras' dataset library\n",
        "(x_train, y_train), (x_test, y_test) = cifar10.load_data()\n",
        "\n",
        "x_train = x_train / 255.0\n",
        "x_test = x_test / 255.0\n",
        "\n",
        "y_train = np_utils.to_categorical(y_train, 10)\n",
        "y_test = np_utils.to_categorical(y_test, 10)\n"
      ],
      "metadata": {
        "colab": {
          "base_uri": "https://localhost:8080/"
        },
        "id": "rF5p-qLy8BCY",
        "outputId": "62f7a914-f9da-44b9-9649-7eab5ab9982a"
      },
      "execution_count": null,
      "outputs": [
        {
          "output_type": "stream",
          "name": "stdout",
          "text": [
            "Downloading data from https://storage.googleapis.com/tensorflow/keras-applications/resnet/resnet50_weights_tf_dim_ordering_tf_kernels_notop.h5\n",
            "94765736/94765736 [==============================] - 5s 0us/step\n"
          ]
        }
      ]
    },
    {
      "cell_type": "code",
      "source": [
        "#To train the model, we make a few changes to the input data \n",
        "#The input image of Cifar10 is 32x32, we upscaled it 3 times before we can pass it through the ResNet layers. \n",
        "#After the images go through ResNet, we then flatten the processed input and pass it though 2 dense layers (with 128 and 64 neurons respectively). \n",
        "#Each layer has batch normalization beforehand and dropout coming out before the last layer, with softmax and 10 neurons. \n",
        "#We train for 5 epochs since the method is computationally very expensive\n",
        "\n",
        "model = models.Sequential()\n",
        "model.add(layers.UpSampling2D((2,2)))\n",
        "model.add(layers.UpSampling2D((2,2)))\n",
        "model.add(layers.UpSampling2D((2,2)))\n",
        "model.add(conv_base)\n",
        "model.add(layers.Flatten())\n",
        "model.add(layers.BatchNormalization())\n",
        "model.add(layers.Dense(128, activation='relu'))\n",
        "model.add(layers.Dropout(0.5))\n",
        "model.add(layers.BatchNormalization())\n",
        "model.add(layers.Dense(64, activation='relu'))\n",
        "model.add(layers.Dropout(0.5))\n",
        "model.add(layers.BatchNormalization())\n",
        "model.add(layers.Dense(10, activation='softmax'))\n",
        "\n",
        "model.compile(optimizer=optimizers.RMSprop(lr=2e-5), loss='binary_crossentropy', metrics=['acc'])\n",
        "\n",
        "history = model.fit(x_train, y_train, epochs=5, batch_size=50, validation_data=(x_test, y_test))"
      ],
      "metadata": {
        "colab": {
          "base_uri": "https://localhost:8080/"
        },
        "id": "cdVI7f-j8-5x",
        "outputId": "af4a291b-041e-4240-a5f9-b02edd09519b"
      },
      "execution_count": null,
      "outputs": [
        {
          "output_type": "stream",
          "name": "stderr",
          "text": [
            "WARNING:absl:`lr` is deprecated, please use `learning_rate` instead, or use the legacy optimizer, e.g.,tf.keras.optimizers.legacy.RMSprop.\n"
          ]
        },
        {
          "output_type": "stream",
          "name": "stdout",
          "text": [
            "Epoch 1/5\n",
            "1000/1000 [==============================] - 638s 607ms/step - loss: 0.3350 - acc: 0.3456 - val_loss: 0.2409 - val_acc: 0.4389\n",
            "Epoch 2/5\n",
            "1000/1000 [==============================] - 616s 616ms/step - loss: 0.1581 - acc: 0.7040 - val_loss: 0.1633 - val_acc: 0.6610\n",
            "Epoch 3/5\n",
            "1000/1000 [==============================] - 609s 609ms/step - loss: 0.1123 - acc: 0.8072 - val_loss: 0.0989 - val_acc: 0.8069\n",
            "Epoch 4/5\n",
            "1000/1000 [==============================] - 616s 616ms/step - loss: 0.0892 - acc: 0.8531 - val_loss: 0.1236 - val_acc: 0.7754\n",
            "Epoch 5/5\n",
            "1000/1000 [==============================] - 616s 616ms/step - loss: 0.0742 - acc: 0.8801 - val_loss: 0.0790 - val_acc: 0.8488\n"
          ]
        }
      ]
    },
    {
      "cell_type": "code",
      "source": [
        "#Draw the necessary plots\n",
        "\n",
        "history_dict = history.history\n",
        "loss_values = history_dict['loss']\n",
        "val_loss_values = history_dict['val_loss']\n",
        "\n",
        "epochs = range(1, len(loss_values) + 1)\n",
        "\n",
        "plt.figure(figsize=(14, 4))\n",
        "\n",
        "plt.subplot(1,2,1)\n",
        "plt.plot(epochs, loss_values, 'bo', label='Training Loss')\n",
        "plt.plot(epochs, val_loss_values, 'b', label='Validation Loss')\n",
        "plt.title('Training and Validation Loss')\n",
        "plt.xlabel('Epochs')\n",
        "plt.ylabel('Loss')\n",
        "plt.legend()\n",
        "\n",
        "acc = history_dict['acc']\n",
        "val_acc = history_dict['val_acc']\n",
        "\n",
        "epochs = range(1, len(loss_values) + 1)\n",
        "\n",
        "plt.subplot(1,2,2)\n",
        "plt.plot(epochs, acc, 'bo', label='Training Accuracy', c='orange')\n",
        "plt.plot(epochs, val_acc, 'b', label='Validation Accuracy', c='orange')\n",
        "plt.title('Training and Validation Accuracy')\n",
        "plt.xlabel('Epochs')\n",
        "plt.ylabel('Accuracy')\n",
        "plt.legend()"
      ],
      "metadata": {
        "colab": {
          "base_uri": "https://localhost:8080/",
          "height": 405
        },
        "id": "Ll_amo7kATVJ",
        "outputId": "3c38851a-b8a4-41b4-8f9d-391b8b6023d9"
      },
      "execution_count": null,
      "outputs": [
        {
          "output_type": "stream",
          "name": "stderr",
          "text": [
            "<ipython-input-14-d244a8fa2bd8>:25: UserWarning: color is redundantly defined by the 'color' keyword argument and the fmt string \"bo\" (-> color='b'). The keyword argument will take precedence.\n",
            "  plt.plot(epochs, acc, 'bo', label='Training Accuracy', c='orange')\n",
            "<ipython-input-14-d244a8fa2bd8>:26: UserWarning: color is redundantly defined by the 'color' keyword argument and the fmt string \"b\" (-> color=(0.0, 0.0, 1.0, 1)). The keyword argument will take precedence.\n",
            "  plt.plot(epochs, val_acc, 'b', label='Validation Accuracy', c='orange')\n"
          ]
        },
        {
          "output_type": "execute_result",
          "data": {
            "text/plain": [
              "<matplotlib.legend.Legend at 0x7f2bd041b400>"
            ]
          },
          "metadata": {},
          "execution_count": 14
        },
        {
          "output_type": "display_data",
          "data": {
            "text/plain": [
              "<Figure size 1008x288 with 2 Axes>"
            ],
            "image/png": "[encoded data removed]"
          },
          "metadata": {
            "needs_background": "light"
          }
        }
      ]
    },
    {
      "cell_type": "markdown",
      "source": [
        "# Pre-trained Model 4: Resnet (Different Implementation)"
      ],
      "metadata": {
        "id": "efqf5Al1tqcq"
      }
    },
    {
      "cell_type": "code",
      "execution_count": 1,
      "metadata": {
        "colab": {
          "base_uri": "https://localhost:8080/",
          "height": 1000,
          "referenced_widgets": [
            "5b507517dcf54b7e8c783cf367e44582",
            "4b4a43f0c1054982b256dc3ed1a94b1c",
            "86fbc83e7f5c47debdbfc895d0774351",
            "29a29af6574941d2af259d6fc99bb75b",
            "c8e5c302449c496aa057bc4d148b6413",
            "027366267ff847a48e3d30adf5942b68",
            "2c771a0f20874a849e099abb4350aed9",
            "85fae3a232c64b798168998ea717d157",
            "1b3b003413f44098b9c004e1f0e8df7a",
            "0df6ddc3be4b47f88e240b2e7f2284ac",
            "e05c25e89b504f2e9104d3f40fc7df1d"
          ]
        },
        "id": "74o1vPbod3_a",
        "outputId": "d373f331-bf3e-44ca-d587-5db4923299b5"
      },
      "outputs": [
        {
          "output_type": "stream",
          "name": "stdout",
          "text": [
            "Downloading https://www.cs.toronto.edu/~kriz/cifar-10-python.tar.gz to ../../data/cifar-10-python.tar.gz\n"
          ]
        },
        {
          "output_type": "display_data",
          "data": {
            "text/plain": [
              "  0%|          | 0/170498071 [00:00<?, ?it/s]"
            ],
            "application/vnd.jupyter.widget-view+json": {
              "version_major": 2,
              "version_minor": 0,
              "model_id": "5b507517dcf54b7e8c783cf367e44582"
            }
          },
          "metadata": {}
        },
        {
          "output_type": "stream",
          "name": "stdout",
          "text": [
            "Extracting ../../data/cifar-10-python.tar.gz to ../../data/\n",
            "Epoch [1/12], Step [100/500] Loss: 1.7600\n",
            "Epoch [1/12], Step [200/500] Loss: 1.3544\n",
            "Epoch [1/12], Step [300/500] Loss: 1.2659\n",
            "Epoch [1/12], Step [400/500] Loss: 1.2004\n",
            "Epoch [1/12], Step [500/500] Loss: 1.0627\n",
            "Epoch [2/12], Step [100/500] Loss: 1.0242\n",
            "Epoch [2/12], Step [200/500] Loss: 1.0044\n",
            "Epoch [2/12], Step [300/500] Loss: 1.0294\n",
            "Epoch [2/12], Step [400/500] Loss: 0.9000\n",
            "Epoch [2/12], Step [500/500] Loss: 0.9649\n",
            "Epoch [3/12], Step [100/500] Loss: 0.8527\n",
            "Epoch [3/12], Step [200/500] Loss: 0.8305\n",
            "Epoch [3/12], Step [300/500] Loss: 0.8278\n",
            "Epoch [3/12], Step [400/500] Loss: 0.7922\n",
            "Epoch [3/12], Step [500/500] Loss: 0.7764\n",
            "Epoch [4/12], Step [100/500] Loss: 0.8059\n",
            "Epoch [4/12], Step [200/500] Loss: 0.6427\n",
            "Epoch [4/12], Step [300/500] Loss: 1.0269\n",
            "Epoch [4/12], Step [400/500] Loss: 0.8827\n",
            "Epoch [4/12], Step [500/500] Loss: 0.6585\n",
            "Epoch [5/12], Step [100/500] Loss: 0.8294\n",
            "Epoch [5/12], Step [200/500] Loss: 0.8356\n",
            "Epoch [5/12], Step [300/500] Loss: 0.6541\n",
            "Epoch [5/12], Step [400/500] Loss: 0.7474\n",
            "Epoch [5/12], Step [500/500] Loss: 0.5544\n",
            "Epoch [6/12], Step [100/500] Loss: 0.8067\n",
            "Epoch [6/12], Step [200/500] Loss: 0.6315\n",
            "Epoch [6/12], Step [300/500] Loss: 0.6839\n",
            "Epoch [6/12], Step [400/500] Loss: 0.6193\n",
            "Epoch [6/12], Step [500/500] Loss: 0.6260\n",
            "Epoch [7/12], Step [100/500] Loss: 0.7282\n",
            "Epoch [7/12], Step [200/500] Loss: 0.5532\n",
            "Epoch [7/12], Step [300/500] Loss: 0.4825\n",
            "Epoch [7/12], Step [400/500] Loss: 0.4861\n",
            "Epoch [7/12], Step [500/500] Loss: 0.4716\n",
            "Epoch [8/12], Step [100/500] Loss: 0.5687\n",
            "Epoch [8/12], Step [200/500] Loss: 0.5892\n",
            "Epoch [8/12], Step [300/500] Loss: 0.5012\n",
            "Epoch [8/12], Step [400/500] Loss: 0.5565\n",
            "Epoch [8/12], Step [500/500] Loss: 0.5534\n",
            "Epoch [9/12], Step [100/500] Loss: 0.5714\n",
            "Epoch [9/12], Step [200/500] Loss: 0.7220\n",
            "Epoch [9/12], Step [300/500] Loss: 0.6497\n",
            "Epoch [9/12], Step [400/500] Loss: 0.5525\n",
            "Epoch [9/12], Step [500/500] Loss: 0.5748\n",
            "Epoch [10/12], Step [100/500] Loss: 0.3540\n",
            "Epoch [10/12], Step [200/500] Loss: 0.4886\n",
            "Epoch [10/12], Step [300/500] Loss: 0.4247\n",
            "Epoch [10/12], Step [400/500] Loss: 0.4907\n",
            "Epoch [10/12], Step [500/500] Loss: 0.6369\n",
            "Epoch [11/12], Step [100/500] Loss: 0.4424\n",
            "Epoch [11/12], Step [200/500] Loss: 0.5635\n",
            "Epoch [11/12], Step [300/500] Loss: 0.4634\n",
            "Epoch [11/12], Step [400/500] Loss: 0.6331\n",
            "Epoch [11/12], Step [500/500] Loss: 0.3780\n",
            "Epoch [12/12], Step [100/500] Loss: 0.4684\n",
            "Epoch [12/12], Step [200/500] Loss: 0.5147\n",
            "Epoch [12/12], Step [300/500] Loss: 0.6005\n",
            "Epoch [12/12], Step [400/500] Loss: 0.3841\n",
            "Epoch [12/12], Step [500/500] Loss: 0.6008\n",
            "Accuracy of the model on the test images: 80.86 %\n"
          ]
        }
      ],
      "source": [
        "# ---------------------------------------------------------------------------- #\n",
        "# An implementation of https://arxiv.org/pdf/1512.03385.pdf                    #\n",
        "# See section 4.2 for the model architecture on CIFAR-10                       #\n",
        "# Some part of the code was referenced from below                              #\n",
        "# https://github.com/pytorch/vision/blob/master/torchvision/models/resnet.py   #\n",
        "# ---------------------------------------------------------------------------- #\n",
        "\n",
        "import torch\n",
        "import torch.nn as nn\n",
        "import torchvision\n",
        "import torchvision.transforms as transforms\n",
        "torch.cuda.empty_cache()\n",
        "\n",
        "#Device configuration\n",
        "device = torch.device('cuda' if torch.cuda.is_available() else 'cpu')\n",
        "\n",
        "#Hyper-parameters\n",
        "num_epochs = 12\n",
        "learning_rate = 0.001\n",
        "\n",
        "#Image preprocessing modules\n",
        "transform = transforms.Compose([\n",
        "    transforms.Pad(4),\n",
        "    transforms.RandomHorizontalFlip(),\n",
        "    transforms.RandomCrop(32),\n",
        "    transforms.ToTensor()])\n",
        "\n",
        "#CIFAR-10 dataset loading\n",
        "train_dataset = torchvision.datasets.CIFAR10(root='../../data/',\n",
        "                                             train=True, \n",
        "                                             transform=transform,\n",
        "                                             download=True)\n",
        "\n",
        "test_dataset = torchvision.datasets.CIFAR10(root='../../data/',\n",
        "                                            train=False, \n",
        "                                            transform=transforms.ToTensor())\n",
        "\n",
        "#Data loader\n",
        "train_loader = torch.utils.data.DataLoader(dataset=train_dataset,\n",
        "                                           batch_size=100, \n",
        "                                           shuffle=True)\n",
        "\n",
        "test_loader = torch.utils.data.DataLoader(dataset=test_dataset,\n",
        "                                          batch_size=100, \n",
        "                                          shuffle=False)\n",
        "\n",
        "#3x3 convolution\n",
        "def conv3x3(in_channels, out_channels, stride=1):\n",
        "    return nn.Conv2d(in_channels, out_channels, kernel_size=3, \n",
        "                     stride=stride, padding=1, bias=False)\n",
        "\n",
        "#Residual block\n",
        "class ResidualBlock(nn.Module):\n",
        "    def __init__(self, in_channels, out_channels, stride=1, downsample=None):\n",
        "        super(ResidualBlock, self).__init__()\n",
        "        self.conv1 = conv3x3(in_channels, out_channels, stride)\n",
        "        self.bn1 = nn.BatchNorm2d(out_channels)\n",
        "        self.relu = nn.ReLU(inplace=True)\n",
        "        self.conv2 = conv3x3(out_channels, out_channels)\n",
        "        self.bn2 = nn.BatchNorm2d(out_channels)\n",
        "        self.downsample = downsample\n",
        "\n",
        "    def forward(self, x):\n",
        "        residual = x\n",
        "        out = self.conv1(x)\n",
        "        out = self.bn1(out)\n",
        "        out = self.relu(out)\n",
        "        out = self.conv2(out)\n",
        "        out = self.bn2(out)\n",
        "        if self.downsample:\n",
        "            residual = self.downsample(x)\n",
        "        out += residual\n",
        "        out = self.relu(out)\n",
        "        return out\n",
        "\n",
        "#ResNet\n",
        "class ResNet(nn.Module):\n",
        "    def __init__(self, block, layers, num_classes=10):\n",
        "        super(ResNet, self).__init__()\n",
        "        self.in_channels = 16\n",
        "        self.conv = conv3x3(3, 16)\n",
        "        self.bn = nn.BatchNorm2d(16)\n",
        "        self.relu = nn.ReLU(inplace=True)\n",
        "        self.layer1 = self.make_layer(block, 16, layers[0])\n",
        "        self.layer2 = self.make_layer(block, 32, layers[1], 2)\n",
        "        self.layer3 = self.make_layer(block, 64, layers[2], 2)\n",
        "        self.avg_pool = nn.AvgPool2d(8)\n",
        "        self.fc = nn.Linear(64, num_classes)\n",
        "\n",
        "    def make_layer(self, block, out_channels, blocks, stride=1):\n",
        "        downsample = None\n",
        "        if (stride != 1) or (self.in_channels != out_channels):\n",
        "            downsample = nn.Sequential(\n",
        "                conv3x3(self.in_channels, out_channels, stride=stride),\n",
        "                nn.BatchNorm2d(out_channels))\n",
        "        layers = []\n",
        "        layers.append(block(self.in_channels, out_channels, stride, downsample))\n",
        "        self.in_channels = out_channels\n",
        "        for i in range(1, blocks):\n",
        "            layers.append(block(out_channels, out_channels))\n",
        "        return nn.Sequential(*layers)\n",
        "\n",
        "    def forward(self, x):\n",
        "        out = self.conv(x)\n",
        "        out = self.bn(out)\n",
        "        out = self.relu(out)\n",
        "        out = self.layer1(out)\n",
        "        out = self.layer2(out)\n",
        "        out = self.layer3(out)\n",
        "        out = self.avg_pool(out)\n",
        "        out = out.view(out.size(0), -1)\n",
        "        out = self.fc(out)\n",
        "        return out\n",
        "\n",
        "model = ResNet(ResidualBlock, [2, 2, 2]).to(device)\n",
        "\n",
        "\n",
        "#Loss and optimizer\n",
        "criterion = nn.CrossEntropyLoss()\n",
        "optimizer = torch.optim.Adam(model.parameters(), lr=learning_rate)\n",
        "\n",
        "#For updating learning rate\n",
        "def update_lr(optimizer, lr):    \n",
        "    for param_group in optimizer.param_groups:\n",
        "        param_group['lr'] = lr\n",
        "\n",
        "#Train the model\n",
        "total_step = len(train_loader)\n",
        "curr_lr = learning_rate\n",
        "for epoch in range(num_epochs):\n",
        "    for i, (images, labels) in enumerate(train_loader):\n",
        "        images = images.to(device)\n",
        "        labels = labels.to(device)\n",
        "\n",
        "        #Forward pass\n",
        "        outputs = model(images)\n",
        "        loss = criterion(outputs, labels)\n",
        "\n",
        "        #Backward and optimize\n",
        "        optimizer.zero_grad()\n",
        "        loss.backward()\n",
        "        optimizer.step()\n",
        "\n",
        "        if (i+1) % 100 == 0:\n",
        "            print (\"Epoch [{}/{}], Step [{}/{}] Loss: {:.4f}\"\n",
        "                   .format(epoch+1, num_epochs, i+1, total_step, loss.item()))\n",
        "\n",
        "    #Decay learning rate\n",
        "    if (epoch+1) % 20 == 0:\n",
        "        curr_lr /= 3\n",
        "        update_lr(optimizer, curr_lr)\n",
        "\n",
        "#Test the model\n",
        "#Model.eval() will turn model to eval mode where batch normalization will not update its mean and std\n",
        "model.eval()\n",
        "with torch.no_grad():\n",
        "    correct = 0\n",
        "    total = 0\n",
        "    for images, labels in test_loader:\n",
        "        images = images.to(device)\n",
        "        labels = labels.to(device)\n",
        "        outputs = model(images)\n",
        "        _, predicted = torch.max(outputs.data, 1)\n",
        "        total += labels.size(0)\n",
        "        correct += (predicted == labels).sum().item()\n",
        "\n",
        "    print('Accuracy of the model on the test images: {} %'.format(100 * correct / total))\n",
        "\n",
        "# Save the model checkpoint\n",
        "torch.save(model.state_dict(), 'resnet.ckpt')"
      ]
    }
  ]
}