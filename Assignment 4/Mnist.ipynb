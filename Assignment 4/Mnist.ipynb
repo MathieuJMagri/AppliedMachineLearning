{
  "nbformat": 4,
  "nbformat_minor": 0,
  "metadata": {
    "colab": {
      "provenance": []
    },
    "kernelspec": {
      "name": "python3",
      "display_name": "Python 3"
    },
    "language_info": {
      "name": "python"
    }
  },
  "cells": [
    {
      "cell_type": "markdown",
      "source": [
        "# MNIST with CNN + Softmax"
      ],
      "metadata": {
        "id": "5XFrJsjx1RMm"
      }
    },
    {
      "cell_type": "code",
      "source": [
        "import tensorflow as tf\n",
        "from sklearn.decomposition import PCA\n",
        "from sklearn.svm import LinearSVC\n",
        "from sklearn.pipeline import Pipeline\n",
        "from sklearn.metrics import accuracy_score\n",
        "from sklearn.preprocessing import StandardScaler, OneHotEncoder\n",
        "import numpy as np\n",
        "\n",
        "\n",
        "\n",
        "# Load MNIST dataset\n",
        "(x_train, y_train), (x_test, y_test) = tf.keras.datasets.mnist.load_data(\n",
        "    path='mnist.npz'\n",
        ")\n",
        "\n",
        "# Perform PCA to reduce input dimension from 784 to 70\n",
        "pca = PCA(n_components=70)\n",
        "x_train = pca.fit_transform(x_train.reshape(-1, 784))\n",
        "x_test = pca.transform(x_test.reshape(-1, 784))\n",
        "\n",
        "# Define fully connected model with two hidden layers\n",
        "model = tf.keras.models.Sequential([\n",
        "    tf.keras.layers.Dense(512, activation='relu', input_dim=70),\n",
        "    tf.keras.layers.Dense(512, activation='relu'),\n",
        "    tf.keras.layers.Dense(10, activation='softmax')\n",
        "])\n",
        "\n",
        "# Compile the model\n",
        "model.compile(optimizer='adam',\n",
        "              loss='sparse_categorical_crossentropy',\n",
        "              metrics=['accuracy'])\n",
        "\n",
        "# Train the model\n",
        "model.fit(x_train, y_train, epochs=1, batch_size=200, verbose=1)\n",
        "\n",
        "# Evaluate the model\n",
        "test_loss, test_acc = model.evaluate(x_test, y_test, verbose=0)\n",
        "print('Test accuracy:', test_acc)"
      ],
      "metadata": {
        "colab": {
          "base_uri": "https://localhost:8080/"
        },
        "id": "E152HAO91SQ1",
        "outputId": "68caac9d-923e-49f6-f459-f705fd6e5680"
      },
      "execution_count": null,
      "outputs": [
        {
          "output_type": "stream",
          "name": "stdout",
          "text": [
            "300/300 [==============================] - 5s 13ms/step - loss: 3.5563 - accuracy: 0.9168\n",
            "Test accuracy: 0.9538999795913696\n"
          ]
        }
      ]
    },
    {
      "cell_type": "code",
      "source": [
        "\"model_nsit_softmax\"\n",
        "\n",
        "# Save the model\n",
        "model.save('model_nsit_softmax.h5')"
      ],
      "metadata": {
        "id": "fBW-Mqfs9zEN"
      },
      "execution_count": null,
      "outputs": []
    },
    {
      "cell_type": "markdown",
      "source": [
        "# MNIST with CNN + SVM\n",
        "\n"
      ],
      "metadata": {
        "id": "vkvnDuA5YevX"
      }
    },
    {
      "cell_type": "code",
      "source": [
        "import torch\n",
        "import torch.nn as nn\n",
        "import torch.optim as optim\n",
        "from torchvision import datasets, transforms\n",
        "\n",
        "# Define the L2-SVM loss function\n",
        "class L2SVM(nn.Module):\n",
        "    def __init__(self, C):\n",
        "        super(L2SVM, self).__init__()\n",
        "        self.C = C\n",
        "\n",
        "    def forward(self, input, target):\n",
        "        scores = input\n",
        "        correct_scores = scores.gather(1, target.view(-1, 1)).squeeze()\n",
        "        margins = torch.clamp(scores - correct_scores.view(-1, 1) + 1, min=0)\n",
        "        margins[target == -1] = 0\n",
        "        loss = margins.sum() * self.C\n",
        "        return loss\n",
        "\n",
        "# Define the fully connected MLP\n",
        "class MLP(nn.Module):\n",
        "    def __init__(self):\n",
        "        super(MLP, self).__init__()\n",
        "        self.fc1 = nn.Linear(784, 512)\n",
        "        self.fc2 = nn.Linear(512, 512)\n",
        "        self.fc3 = nn.Linear(512, 512)\n",
        "        self.fc4 = nn.Linear(512, 10)\n",
        "\n",
        "    def forward(self, x):\n",
        "        x = x.view(-1, 784)\n",
        "        x = torch.relu(self.fc1(x))\n",
        "        x = torch.relu(self.fc2(x))\n",
        "        x = torch.relu(self.fc3(x))\n",
        "        x = self.fc4(x)\n",
        "        return x\n",
        "\n",
        "\n",
        "# Load the MNIST dataset\n",
        "train_dataset = datasets.MNIST(root='./data', train=True, transform=transforms.ToTensor(), download=True)\n",
        "test_dataset = datasets.MNIST(root='./data', train=False, transform=transforms.ToTensor())\n",
        "\n",
        "# # Reduce input data to 70 dimensions using PCA\n",
        "# n_components=70\n",
        "# pca = PCA(n_components=n_components)\n",
        "# train_data = pca.fit_transform(train_dataset.data.view(-1, 784))\n",
        "# test_data = pca.transform(test_dataset.data.view(-1, 784))\n",
        "\n",
        "# # Convert numpy arrays to tensors\n",
        "# train_data = torch.Tensor(train_data)\n",
        "# test_data = torch.Tensor(test_data)\n",
        "# train_labels = train_dataset.targets\n",
        "# test_labels = test_dataset.targets\n",
        "\n",
        "# # Create data loaders\n",
        "# train_dataset = torch.utils.data.TensorDataset(train_data, train_labels)\n",
        "# test_dataset = torch.utils.data.TensorDataset(test_data, test_labels)\n",
        "# train_loader = torch.utils.data.DataLoader(train_dataset, batch_size=64, shuffle=True)\n",
        "# test_loader = torch.utils.data.DataLoader(test_dataset, batch_size=64)\n",
        "\n",
        "# Create data loaders\n",
        "train_loader = torch.utils.data.DataLoader(train_dataset, batch_size=64, shuffle=True)\n",
        "test_loader = torch.utils.data.DataLoader(test_dataset, batch_size=64)\n",
        "\n",
        "# Initialize the model and loss function\n",
        "model = MLP()\n",
        "criterion = L2SVM(C=0.1)\n",
        "\n",
        "# Define the optimizer\n",
        "optimizer = optim.SGD(model.parameters(), lr=0.01)\n",
        "\n",
        "# Train the model\n",
        "num_epochs = 1\n",
        "\n",
        "for epoch in range(num_epochs):\n",
        "    train_loss = 0\n",
        "    train_acc = 0\n",
        "    model.train()\n",
        "\n",
        "    for batch_idx, (data, target) in enumerate(train_loader):\n",
        "        optimizer.zero_grad()\n",
        "        output = model(data)\n",
        "        loss = criterion(output, target)\n",
        "        loss.backward()\n",
        "        optimizer.step()\n",
        "\n",
        "        train_loss += loss.item()\n",
        "        pred = output.argmax(dim=1, keepdim=True)\n",
        "        train_acc += pred.eq(target.view_as(pred)).sum().item()\n",
        "\n",
        "    train_loss /= len(train_loader.dataset)\n",
        "    train_acc /= len(train_loader.dataset)\n",
        "\n",
        "    print('Epoch: {} \\t Train Loss: {:.6f} \\t Train Acc: {:.6f}'.format(epoch+1, train_loss, train_acc))"
      ],
      "metadata": {
        "colab": {
          "base_uri": "https://localhost:8080/"
        },
        "id": "_k-03hHi1Ku_",
        "outputId": "011bae8b-59ae-4d0a-ea8a-d8ca30aaba75"
      },
      "execution_count": null,
      "outputs": [
        {
          "output_type": "stream",
          "name": "stdout",
          "text": [
            "Epoch: 1 \t Train Loss: 0.155415 \t Train Acc: 0.894617\n"
          ]
        }
      ]
    },
    {
      "cell_type": "code",
      "source": [
        "# Test the model\n",
        "test_loss = 0\n",
        "test_acc = 0\n",
        "model.eval()\n",
        "\n",
        "with torch.no_grad():\n",
        "    for data, target in test_loader:\n",
        "        output = model(data)\n",
        "        loss = criterion(output, target)\n",
        "\n",
        "        test_loss += loss.item()\n",
        "        pred = output.argmax(dim=1, keepdim=True)\n",
        "        test_acc += pred.eq(target.view_as(pred)).sum().item()\n",
        "\n",
        "test_loss /= len(test_loader.dataset)\n",
        "test_acc /= len(test_loader.dataset)\n",
        "\n",
        "print('Test Loss: {:.6f} \\t Test Acc: {:.6f}'.format(test_loss, test_acc))"
      ],
      "metadata": {
        "colab": {
          "base_uri": "https://localhost:8080/"
        },
        "id": "kPri4p8zXqPc",
        "outputId": "8802015e-3689-41c7-a18c-c9ce7310e15c"
      },
      "execution_count": null,
      "outputs": [
        {
          "output_type": "stream",
          "name": "stdout",
          "text": [
            "Test Loss: 0.117301 \t Test Acc: 0.956400\n"
          ]
        }
      ]
    },
    {
      "cell_type": "code",
      "source": [
        "# Save the trained model\n",
        "PATH = 'model_nsit_sxm.pt'\n",
        "torch.save(model.state_dict(), PATH)"
      ],
      "metadata": {
        "id": "17jc9xPmB7Wb"
      },
      "execution_count": null,
      "outputs": []
    },
    {
      "cell_type": "code",
      "source": [
        "# Load the saved model\n",
        "model = MLP()\n",
        "model.load_state_dict(torch.load(PATH))"
      ],
      "metadata": {
        "colab": {
          "base_uri": "https://localhost:8080/"
        },
        "id": "e0ftEaYdCTnC",
        "outputId": "c6f7756f-57cd-4f8c-ba38-7f31dc296559"
      },
      "execution_count": null,
      "outputs": [
        {
          "output_type": "execute_result",
          "data": {
            "text/plain": [
              "<All keys matched successfully>"
            ]
          },
          "metadata": {},
          "execution_count": 27
        }
      ]
    }
  ]
}