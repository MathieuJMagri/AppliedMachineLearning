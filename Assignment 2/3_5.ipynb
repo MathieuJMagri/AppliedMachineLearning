{
  "cells": [
    {
      "cell_type": "code",
      "execution_count": 1,
      "metadata": {
        "id": "P_rpD5JkcDEq"
      },
      "outputs": [],
      "source": [
        "import pandas as pd\n",
        "import matplotlib.pyplot as plt\n",
        "import seaborn as sns\n",
        "import numpy as np\n",
        "import sklearn\n",
        "from sklearn.model_selection import train_test_split\n",
        "from sklearn.compose import make_column_transformer\n",
        "from sklearn.pipeline import make_pipeline\n",
        "from sklearn.preprocessing import StandardScaler, OneHotEncoder\n",
        "from sklearn.model_selection import cross_val_score\n",
        "from google.colab import drive\n",
        "import random\n",
        "from sklearn.metrics import mean_squared_error\n",
        "import time\n",
        "from sklearn.model_selection import GridSearchCV\n",
        "import pickle\n",
        "import pdb\n",
        "\n",
        "import torch\n",
        "import torch.nn as nn\n",
        "import torch.optim as optim\n",
        "from torchvision import datasets, transforms\n",
        "from torch.utils.data import DataLoader, TensorDataset"
      ]
    },
    {
      "cell_type": "code",
      "execution_count": 2,
      "metadata": {
        "colab": {
          "base_uri": "https://localhost:8080/"
        },
        "id": "j891qGqLcFFM",
        "outputId": "8c4f674c-c555-459e-c9e4-70ee980a2c8f"
      },
      "outputs": [
        {
          "output_type": "stream",
          "name": "stdout",
          "text": [
            "Mounted at /content/drive\n"
          ]
        }
      ],
      "source": [
        "drive.mount('/content/drive')"
      ]
    },
    {
      "cell_type": "code",
      "execution_count": 3,
      "metadata": {
        "id": "cH48A1R-cUVa"
      },
      "outputs": [],
      "source": [
        "def unpickle(file):\n",
        "    with open(file, 'rb') as fo:\n",
        "        dict_=pickle.load(fo, encoding='bytes')\n",
        "    return dict_"
      ]
    },
    {
      "cell_type": "code",
      "execution_count": 4,
      "metadata": {
        "id": "gg0NPSmzNbUG"
      },
      "outputs": [],
      "source": [
        "### Preparing the training data\n",
        "\n",
        "## concatanating all the different sets of data\n",
        "dict_1 = unpickle('/content/drive/My Drive/COMP_551/A2/data_batch_1')\n",
        "dict_2 = unpickle('/content/drive/My Drive/COMP_551/A2/data_batch_2')\n",
        "dict_3 = unpickle('/content/drive/My Drive/COMP_551/A2/data_batch_3')\n",
        "dict_4 = unpickle('/content/drive/My Drive/COMP_551/A2/data_batch_4')\n",
        "dict_5 = unpickle('/content/drive/My Drive/COMP_551/A2/data_batch_5')\n",
        "keys = list(dict_1.keys())\n",
        "key = keys[2]\n",
        "x_1 = dict_1[key]\n",
        "y_1=dict_1[keys[1]]\n",
        "x_2 = dict_2[key]\n",
        "y_2=dict_2[keys[1]]\n",
        "x_3 = dict_3[key]\n",
        "y_3=dict_3[keys[1]]\n",
        "x_4 = dict_4[key]\n",
        "y_4=dict_4[keys[1]]\n",
        "x_5 = dict_5[key]\n",
        "y_5=dict_5[keys[1]]\n",
        "\n",
        "images = [x_1, x_2, x_3, x_4, x_5]\n",
        "labels = [y_1, y_2, y_3, y_4, y_5]\n",
        "X_train = np.concatenate(images, axis=0)\n",
        "y_train = np.concatenate(labels, axis=0)\n",
        "## preprocessing\n",
        "X_train = X_train - np.mean(X_train, axis=0) # centering\n",
        "X_train = X_train/(np.std(X_train, axis=0)) # normallizing\n",
        "\n",
        "### Preparing the test data\n",
        "\n",
        "dict_test = unpickle('/content/drive/My Drive/COMP_551/A2/test_batch')\n",
        "X_test = dict_test[key]\n",
        "## preprocessing\n",
        "X_test = X_test - np.mean(X_test, axis=0) # centering\n",
        "X_test = X_test/(np.std(X_test, axis=0)) # normallizing\n",
        "\n",
        "y_test = dict_test[keys[1]]\n",
        "\n",
        "\n",
        "#how to load x and y?\n",
        "x_train_tensor = torch.Tensor(X_train)\n",
        "y_train_tensor = torch.Tensor(y_train)\n",
        "train_dataset = TensorDataset(x_train_tensor, y_train_tensor)\n",
        "batch_size = 32\n",
        "train_loader = DataLoader(train_dataset, batch_size=32, shuffle=True)\n",
        "\n",
        "x_test_tensor = torch.Tensor(X_test)\n",
        "y_test_tensor = torch.Tensor(y_test)\n",
        "test_dataset = TensorDataset(x_test_tensor, y_test_tensor)\n",
        "batch_size = 32\n",
        "test_loader = DataLoader(test_dataset, batch_size=32, shuffle=True)\n"
      ]
    },
    {
      "cell_type": "markdown",
      "metadata": {
        "id": "ncZSVBjINfEJ"
      },
      "source": [
        "#CNN created with pytorch:\n",
        "\n",
        "(generated with chatgpt)"
      ]
    },
    {
      "cell_type": "code",
      "execution_count": 5,
      "metadata": {
        "id": "fIT-0-21NeuA"
      },
      "outputs": [],
      "source": [
        "import torch.nn as nn\n",
        "import torch.optim as optim\n",
        "\n",
        "class Net(nn.Module):\n",
        "    def __init__(self):\n",
        "        super(Net, self).__init__()\n",
        "        \n",
        "        self.conv1 = nn.Conv2d(3, 32, kernel_size=3, padding=1)\n",
        "        self.relu1 = nn.ReLU()\n",
        "        self.pool1 = nn.MaxPool2d(kernel_size=2, stride=2)\n",
        "        \n",
        "        self.conv2 = nn.Conv2d(32, 64, kernel_size=3, padding=1)\n",
        "        self.relu2 = nn.ReLU()\n",
        "        self.pool2 = nn.MaxPool2d(kernel_size=2, stride=2)\n",
        "        \n",
        "        self.fc1 = nn.Linear(64 * 8 * 8 * 16, 256)\n",
        "        self.relu3 = nn.ReLU()\n",
        "        \n",
        "        self.fc2 = nn.Linear(256, 10)\n",
        "\n",
        "    def forward(self, x):\n",
        "        # Pass input through the first convolutional layer followed by ReLU activation\n",
        "        x = self.conv1(x)\n",
        "        x = self.relu1(x)\n",
        "        \n",
        "        # Pass output of first layer through the second convolutional layer followed by ReLU activation\n",
        "        x = self.conv2(x)\n",
        "        x = self.relu2(x)\n",
        "        \n",
        "        # Flatten the output of the second convolutional layer\n",
        "        x = x.view(-1, 64 * 8 * 8 * 16)\n",
        "        \n",
        "        # Pass flattened output through first fully connected layer followed by ReLU activation\n",
        "        x = self.fc1(x)\n",
        "        x = self.relu3(x)\n",
        "        \n",
        "        # Pass output of first fully connected layer through second fully connected layer followed by ReLU activation\n",
        "        x = self.fc2(x)\n",
        "        \n",
        "        return x\n",
        "\n"
      ]
    },
    {
      "cell_type": "code",
      "execution_count": 6,
      "metadata": {
        "colab": {
          "base_uri": "https://localhost:8080/",
          "height": 1000
        },
        "id": "byvjzuf1Pf5q",
        "outputId": "c950f95d-c973-4aeb-d069-af3d4e0b683c"
      },
      "outputs": [
        {
          "output_type": "stream",
          "name": "stdout",
          "text": [
            "Epoch 1, batch 100: loss=2.168\n",
            "Epoch 1, batch 200: loss=1.912\n",
            "Epoch 1, batch 300: loss=1.775\n",
            "Epoch 1, batch 400: loss=1.718\n",
            "Epoch 1, batch 500: loss=1.644\n",
            "Epoch 1, batch 600: loss=1.585\n",
            "Epoch 1, batch 700: loss=1.529\n",
            "Epoch 1, batch 800: loss=1.485\n",
            "Epoch 1, batch 900: loss=1.444\n",
            "Epoch 1, batch 1000: loss=1.448\n",
            "Epoch 1, batch 1100: loss=1.399\n",
            "Epoch 1, batch 1200: loss=1.381\n",
            "Epoch 1, batch 1300: loss=1.347\n",
            "Epoch 1, batch 1400: loss=1.325\n",
            "Epoch 1, batch 1500: loss=1.336\n",
            "Epoch 2, batch 100: loss=1.242\n",
            "Epoch 2, batch 200: loss=1.262\n",
            "Epoch 2, batch 300: loss=1.234\n",
            "Epoch 2, batch 400: loss=1.224\n",
            "Epoch 2, batch 500: loss=1.233\n",
            "Epoch 2, batch 600: loss=1.202\n",
            "Epoch 2, batch 700: loss=1.215\n",
            "Epoch 2, batch 800: loss=1.183\n",
            "Epoch 2, batch 900: loss=1.182\n",
            "Epoch 2, batch 1000: loss=1.165\n",
            "Epoch 2, batch 1100: loss=1.164\n",
            "Epoch 2, batch 1200: loss=1.148\n",
            "Epoch 2, batch 1300: loss=1.153\n",
            "Epoch 2, batch 1400: loss=1.139\n",
            "Epoch 2, batch 1500: loss=1.117\n",
            "Epoch 3, batch 100: loss=1.044\n",
            "Epoch 3, batch 200: loss=1.033\n",
            "Epoch 3, batch 300: loss=1.061\n",
            "Epoch 3, batch 400: loss=1.016\n",
            "Epoch 3, batch 500: loss=1.032\n",
            "Epoch 3, batch 600: loss=1.043\n",
            "Epoch 3, batch 700: loss=1.034\n",
            "Epoch 3, batch 800: loss=1.011\n",
            "Epoch 3, batch 900: loss=1.021\n",
            "Epoch 3, batch 1000: loss=1.037\n",
            "Epoch 3, batch 1100: loss=1.019\n",
            "Epoch 3, batch 1200: loss=1.005\n",
            "Epoch 3, batch 1300: loss=0.977\n",
            "Epoch 3, batch 1400: loss=0.968\n",
            "Epoch 3, batch 1500: loss=0.977\n",
            "Epoch 4, batch 100: loss=0.882\n",
            "Epoch 4, batch 200: loss=0.857\n",
            "Epoch 4, batch 300: loss=0.875\n",
            "Epoch 4, batch 400: loss=0.861\n",
            "Epoch 4, batch 500: loss=0.867\n",
            "Epoch 4, batch 600: loss=0.884\n",
            "Epoch 4, batch 700: loss=0.871\n",
            "Epoch 4, batch 800: loss=0.861\n",
            "Epoch 4, batch 900: loss=0.878\n",
            "Epoch 4, batch 1000: loss=0.876\n",
            "Epoch 4, batch 1100: loss=0.842\n",
            "Epoch 4, batch 1200: loss=0.879\n",
            "Epoch 4, batch 1300: loss=0.846\n",
            "Epoch 4, batch 1400: loss=0.835\n",
            "Epoch 4, batch 1500: loss=0.856\n",
            "Epoch 5, batch 100: loss=0.686\n",
            "Epoch 5, batch 200: loss=0.717\n",
            "Epoch 5, batch 300: loss=0.727\n",
            "Epoch 5, batch 400: loss=0.724\n",
            "Epoch 5, batch 500: loss=0.691\n",
            "Epoch 5, batch 600: loss=0.719\n",
            "Epoch 5, batch 700: loss=0.718\n",
            "Epoch 5, batch 800: loss=0.714\n",
            "Epoch 5, batch 900: loss=0.728\n",
            "Epoch 5, batch 1000: loss=0.713\n",
            "Epoch 5, batch 1100: loss=0.718\n",
            "Epoch 5, batch 1200: loss=0.733\n",
            "Epoch 5, batch 1300: loss=0.738\n",
            "Epoch 5, batch 1400: loss=0.727\n",
            "Epoch 5, batch 1500: loss=0.698\n",
            "Epoch 6, batch 100: loss=0.533\n",
            "Epoch 6, batch 200: loss=0.554\n",
            "Epoch 6, batch 300: loss=0.536\n",
            "Epoch 6, batch 400: loss=0.580\n",
            "Epoch 6, batch 500: loss=0.558\n",
            "Epoch 6, batch 600: loss=0.584\n",
            "Epoch 6, batch 700: loss=0.557\n",
            "Epoch 6, batch 800: loss=0.549\n",
            "Epoch 6, batch 900: loss=0.585\n",
            "Epoch 6, batch 1000: loss=0.581\n",
            "Epoch 6, batch 1100: loss=0.620\n",
            "Epoch 6, batch 1200: loss=0.562\n",
            "Epoch 6, batch 1300: loss=0.582\n",
            "Epoch 6, batch 1400: loss=0.558\n",
            "Epoch 6, batch 1500: loss=0.574\n",
            "Epoch 7, batch 100: loss=0.378\n",
            "Epoch 7, batch 200: loss=0.392\n",
            "Epoch 7, batch 300: loss=0.381\n",
            "Epoch 7, batch 400: loss=0.385\n",
            "Epoch 7, batch 500: loss=0.438\n",
            "Epoch 7, batch 600: loss=0.421\n",
            "Epoch 7, batch 700: loss=0.416\n",
            "Epoch 7, batch 800: loss=0.413\n",
            "Epoch 7, batch 900: loss=0.457\n",
            "Epoch 7, batch 1000: loss=0.424\n",
            "Epoch 7, batch 1100: loss=0.434\n",
            "Epoch 7, batch 1200: loss=0.417\n",
            "Epoch 7, batch 1300: loss=0.421\n",
            "Epoch 7, batch 1400: loss=0.453\n",
            "Epoch 7, batch 1500: loss=0.454\n",
            "Epoch 8, batch 100: loss=0.246\n",
            "Epoch 8, batch 200: loss=0.230\n",
            "Epoch 8, batch 300: loss=0.235\n",
            "Epoch 8, batch 400: loss=0.251\n",
            "Epoch 8, batch 500: loss=0.265\n",
            "Epoch 8, batch 600: loss=0.280\n",
            "Epoch 8, batch 700: loss=0.283\n",
            "Epoch 8, batch 800: loss=0.271\n",
            "Epoch 8, batch 900: loss=0.296\n",
            "Epoch 8, batch 1000: loss=0.269\n",
            "Epoch 8, batch 1100: loss=0.270\n",
            "Epoch 8, batch 1200: loss=0.288\n",
            "Epoch 8, batch 1300: loss=0.266\n",
            "Epoch 8, batch 1400: loss=0.299\n",
            "Epoch 8, batch 1500: loss=0.333\n",
            "Epoch 9, batch 100: loss=0.144\n",
            "Epoch 9, batch 200: loss=0.125\n",
            "Epoch 9, batch 300: loss=0.131\n",
            "Epoch 9, batch 400: loss=0.147\n",
            "Epoch 9, batch 500: loss=0.156\n",
            "Epoch 9, batch 600: loss=0.162\n",
            "Epoch 9, batch 700: loss=0.134\n",
            "Epoch 9, batch 800: loss=0.166\n",
            "Epoch 9, batch 900: loss=0.172\n",
            "Epoch 9, batch 1000: loss=0.163\n",
            "Epoch 9, batch 1100: loss=0.178\n",
            "Epoch 9, batch 1200: loss=0.193\n",
            "Epoch 9, batch 1300: loss=0.186\n",
            "Epoch 9, batch 1400: loss=0.169\n",
            "Epoch 9, batch 1500: loss=0.171\n",
            "Epoch 10, batch 100: loss=0.094\n",
            "Epoch 10, batch 200: loss=0.072\n",
            "Epoch 10, batch 300: loss=0.085\n",
            "Epoch 10, batch 400: loss=0.077\n",
            "Epoch 10, batch 500: loss=0.075\n",
            "Epoch 10, batch 600: loss=0.079\n",
            "Epoch 10, batch 700: loss=0.073\n",
            "Epoch 10, batch 800: loss=0.074\n",
            "Epoch 10, batch 900: loss=0.089\n",
            "Epoch 10, batch 1000: loss=0.096\n",
            "Epoch 10, batch 1100: loss=0.085\n",
            "Epoch 10, batch 1200: loss=0.095\n",
            "Epoch 10, batch 1300: loss=0.079\n",
            "Epoch 10, batch 1400: loss=0.097\n",
            "Epoch 10, batch 1500: loss=0.103\n"
          ]
        },
        {
          "output_type": "display_data",
          "data": {
            "text/plain": [
              "<Figure size 432x288 with 1 Axes>"
            ],
            "image/png": "[encoded data removed]"
          },
          "metadata": {
            "needs_background": "light"
          }
        }
      ],
      "source": [
        "import torch\n",
        "import torch.nn as nn\n",
        "import torch.optim as optim\n",
        "\n",
        "# Define the hyperparameters\n",
        "learning_rate = 0.001\n",
        "num_epochs = 10\n",
        "batch_size = 64\n",
        "\n",
        "# Create an instance of the model\n",
        "import matplotlib.pyplot as plt\n",
        "\n",
        "net = Net()\n",
        "criterion = nn.CrossEntropyLoss()\n",
        "optimizer = optim.SGD(net.parameters(), lr=0.001, momentum=0.9)\n",
        "\n",
        "train_losses = []\n",
        "num_epochs = 10\n",
        "\n",
        "for epoch in range(num_epochs):\n",
        "    running_loss = 0.0\n",
        "    for i, data in enumerate(train_loader):\n",
        "        inputs, labels = data\n",
        "        labels = labels.to(torch.long)\n",
        "        optimizer.zero_grad()\n",
        "        inputs = inputs.view(-1, 3, 32, 32)\n",
        "        outputs = net(inputs)\n",
        "        loss = criterion(outputs, labels)\n",
        "        loss.backward()\n",
        "        optimizer.step()\n",
        "        running_loss += loss.item()\n",
        "\n",
        "        if i % 100 == 99:\n",
        "            print(f'Epoch {epoch+1}, batch {i+1}: loss={running_loss/100:.3f}')\n",
        "            train_losses.append(running_loss/100)\n",
        "            running_loss = 0.0\n",
        "\n",
        "# Plot the loss\n",
        "plt.plot(train_losses)\n",
        "plt.xlabel('Batch')\n",
        "plt.ylabel('Training loss')\n",
        "plt.show()\n"
      ]
    },
    {
      "cell_type": "markdown",
      "source": [
        "#y u not working"
      ],
      "metadata": {
        "id": "BWBTZ9iHXBf0"
      }
    },
    {
      "cell_type": "code",
      "execution_count": 7,
      "metadata": {
        "id": "1M3RMyTWhWDT",
        "colab": {
          "base_uri": "https://localhost:8080/"
        },
        "outputId": "c253379f-a20f-41bf-a343-f65ac2e03219"
      },
      "outputs": [
        {
          "output_type": "stream",
          "name": "stdout",
          "text": [
            "Test Accuracy: 0.6738\n"
          ]
        }
      ],
      "source": [
        "# Set the model to evaluation mode\n",
        "net.eval()\n",
        "\n",
        "X_test = torch.from_numpy(X_test).float()\n",
        "X_test = X_test.reshape(-1, 3, 32, 32)\n",
        "#y_test = torch.from_numpy(y_test)\n",
        "\n",
        "# Make predictions on new data\n",
        "with torch.no_grad():\n",
        "    y_pred = net(X_test)\n",
        "\n",
        "# Convert the predicted probabilities to class labels\n",
        "_, predicted_labels = torch.max(y_pred, 1)\n",
        "\n",
        "# Compute the accuracy on the test set\n",
        "correct_predictions = torch.sum(predicted_labels == torch.Tensor(y_test).long())\n",
        "accuracy = correct_predictions.item() / len(y_test)\n",
        "print(f\"Test Accuracy: {accuracy:.4f}\")"
      ]
    }
  ],
  "metadata": {
    "colab": {
      "provenance": []
    },
    "kernelspec": {
      "display_name": "Python 3",
      "name": "python3"
    },
    "language_info": {
      "name": "python"
    }
  },
  "nbformat": 4,
  "nbformat_minor": 0
}