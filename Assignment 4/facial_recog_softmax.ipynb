{
  "nbformat": 4,
  "nbformat_minor": 0,
  "metadata": {
    "colab": {
      "provenance": []
    },
    "kernelspec": {
      "name": "python3",
      "display_name": "Python 3"
    },
    "language_info": {
      "name": "python"
    }
  },
  "cells": [
    {
      "cell_type": "code",
      "source": [
        "import pandas as pd\n",
        "import matplotlib.pyplot as plt\n",
        "import seaborn as sns\n",
        "import numpy as np\n",
        "import sklearn\n",
        "from sklearn.metrics import mean_squared_error\n",
        "from sklearn.model_selection import train_test_split\n",
        "from sklearn.compose import make_column_transformer\n",
        "from sklearn.pipeline import make_pipeline\n",
        "from sklearn.preprocessing import StandardScaler, OneHotEncoder\n",
        "from sklearn.model_selection import cross_val_score\n",
        "from google.colab import drive\n",
        "import random\n",
        "from sklearn.metrics import accuracy_score\n",
        "import time\n",
        "# import sys\n",
        "np.set_printoptions(threshold=False) # for printing entire array after ohe\n",
        "plt.style.use('ggplot')"
      ],
      "metadata": {
        "id": "xrj-7uDyMvhK"
      },
      "execution_count": null,
      "outputs": []
    },
    {
      "cell_type": "code",
      "execution_count": null,
      "metadata": {
        "colab": {
          "base_uri": "https://localhost:8080/"
        },
        "id": "cSLMmtBASMZe",
        "outputId": "2ad5bf3a-7fdb-4bf0-d388-6c3fd855c6e7"
      },
      "outputs": [
        {
          "output_type": "stream",
          "name": "stdout",
          "text": [
            "Drive already mounted at /content/drive; to attempt to forcibly remount, call drive.mount(\"/content/drive\", force_remount=True).\n"
          ]
        }
      ],
      "source": [
        "drive.mount('/content/drive')"
      ]
    },
    {
      "cell_type": "code",
      "source": [
        "import pandas as pd\n",
        "import numpy as np\n",
        "import tensorflow as tf\n",
        "from tensorflow.keras.models import Sequential\n",
        "from tensorflow.keras.layers import Dense, Dropout, Flatten, Conv2D, MaxPooling2D, BatchNormalization\n",
        "from tensorflow.keras.losses import SquaredHinge\n",
        "from tensorflow.keras.optimizers import Adam\n",
        "\n",
        "# Load the training and test data\n",
        "train_data = pd.read_csv('/content/drive/My Drive/Facial_Recog/facial_recog/train.csv')\n",
        "test_data = pd.read_csv('/content/drive/My Drive/Facial_Recog/facial_recog/test.csv')\n",
        "\n",
        "# Preprocess the data\n",
        "X_train = np.array([np.fromstring(pixel_str, dtype=int, sep=' ') for pixel_str in train_data['pixels']])\n",
        "y_train = np.array(train_data['emotion'])\n",
        "X_test = np.array([np.fromstring(pixel_str, dtype=int, sep=' ') for pixel_str in test_data['pixels']])\n",
        "\n",
        "X_train = X_train.reshape(-1, 48, 48, 1)\n",
        "X_test = X_test.reshape(-1, 48, 48, 1)\n",
        "\n",
        "X_train = X_train.astype('float32') / 255.\n",
        "X_test = X_test.astype('float32') / 255.\n",
        "\n",
        "# Convert the labels to one-hot encoding\n",
        "y_train = tf.keras.utils.to_categorical(y_train, num_classes=7)\n",
        "\n",
        "# Define the model architecture\n",
        "model = Sequential()\n",
        "\n",
        "model.add(Conv2D(32, kernel_size=(3, 3), activation='relu', padding='same', input_shape=(48, 48, 1)))\n",
        "model.add(BatchNormalization())\n",
        "model.add(Conv2D(32, kernel_size=(3, 3), activation='relu', padding='same'))\n",
        "model.add(BatchNormalization())\n",
        "model.add(MaxPooling2D(pool_size=(2, 2)))\n",
        "model.add(Dropout(0.25))\n",
        "\n",
        "model.add(Conv2D(64, kernel_size=(3, 3), activation='relu', padding='same'))\n",
        "model.add(BatchNormalization())\n",
        "model.add(Conv2D(64, kernel_size=(3, 3), activation='relu', padding='same'))\n",
        "model.add(BatchNormalization())\n",
        "model.add(MaxPooling2D(pool_size=(2, 2)))\n",
        "model.add(Dropout(0.25))\n",
        "\n",
        "model.add(Conv2D(128, kernel_size=(3, 3), activation='relu', padding='same'))\n",
        "model.add(BatchNormalization())\n",
        "model.add(Conv2D(128, kernel_size=(3, 3), activation='relu', padding='same'))\n",
        "model.add(BatchNormalization())\n",
        "model.add(MaxPooling2D(pool_size=(2, 2)))\n",
        "model.add(Dropout(0.25))\n",
        "\n",
        "model.add(Flatten())\n",
        "model.add(Dense(256, activation='relu'))\n",
        "model.add(BatchNormalization())\n",
        "model.add(Dropout(0.5))\n",
        "model.add(Dense(7, activation='softmax'))\n",
        "\n",
        "# Compile the model with squared hinge loss and Adam optimizer\n",
        "model.compile(loss='categorical_crossentropy', optimizer=Adam(lr=0.0001), metrics=['accuracy'])\n",
        "\n",
        "# Train the model and test\n",
        "model.fit(X_train, y_train, batch_size=128, epochs=1, validation_split=0.1)"
      ],
      "metadata": {
        "colab": {
          "base_uri": "https://localhost:8080/"
        },
        "id": "zkSpwpBP-rzJ",
        "outputId": "a016ebe8-bb0f-4c27-d3e2-17e0eee5f359"
      },
      "execution_count": null,
      "outputs": [
        {
          "output_type": "stream",
          "name": "stderr",
          "text": [
            "WARNING:absl:`lr` is deprecated in Keras optimizer, please use `learning_rate` or use the legacy optimizer, e.g.,tf.keras.optimizers.legacy.Adam.\n"
          ]
        },
        {
          "output_type": "stream",
          "name": "stdout",
          "text": [
            "202/202 [==============================] - 610s 3s/step - loss: 2.0474 - accuracy: 0.3004 - val_loss: 1.9914 - val_accuracy: 0.1452\n"
          ]
        },
        {
          "output_type": "execute_result",
          "data": {
            "text/plain": [
              "<keras.callbacks.History at 0x7f15c035e770>"
            ]
          },
          "metadata": {},
          "execution_count": 6
        }
      ]
    },
    {
      "cell_type": "code",
      "source": [
        "# 1st layer filters from convolutional net with softmax \n",
        "\n",
        "import matplotlib.pyplot as plt\n",
        "\n",
        "# Get the weights of the first convolutional layer\n",
        "weights = model.layers[0].get_weights()[0]\n",
        "\n",
        "# Reshape the weights tensor to the shape of the filters\n",
        "filters = weights.reshape((32, 3, 3))\n",
        "\n",
        "# Plot the filters\n",
        "fig, ax = plt.subplots(nrows=4, ncols=8, figsize=(12,6))\n",
        "for i, axi in enumerate(ax.flat):\n",
        "    axi.imshow(filters[i], cmap='gray')\n",
        "    axi.axis('off')\n",
        "    \n",
        "plt.show()\n"
      ],
      "metadata": {
        "id": "tqKCY9LoROl7",
        "colab": {
          "base_uri": "https://localhost:8080/",
          "height": 497
        },
        "outputId": "9a65ba33-0d0c-460d-8b6a-54280c98dab4"
      },
      "execution_count": null,
      "outputs": [
        {
          "output_type": "display_data",
          "data": {
            "text/plain": [
              "<Figure size 1200x600 with 32 Axes>"
            ],
            "image/png": "[encoded data removed]"
          },
          "metadata": {}
        }
      ]
    },
    {
      "cell_type": "code",
      "source": [
        "model.save(\"/content/drive/My Drive/COMP_551/facial_recog_softmax.pth\")"
      ],
      "metadata": {
        "colab": {
          "base_uri": "https://localhost:8080/"
        },
        "id": "fjL5nPGIdM1y",
        "outputId": "5337ef4a-e4ba-4200-cc48-edb9ea9fb8a0"
      },
      "execution_count": null,
      "outputs": [
        {
          "output_type": "stream",
          "name": "stderr",
          "text": [
            "WARNING:absl:Found untraced functions such as _jit_compiled_convolution_op, _jit_compiled_convolution_op, _jit_compiled_convolution_op, _jit_compiled_convolution_op, _jit_compiled_convolution_op while saving (showing 5 of 7). These functions will not be directly callable after loading.\n"
          ]
        }
      ]
    }
  ]
}