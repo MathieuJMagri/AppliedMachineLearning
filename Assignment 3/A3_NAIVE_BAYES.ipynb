{
  "nbformat": 4,
  "nbformat_minor": 0,
  "metadata": {
    "colab": {
      "provenance": []
    },
    "kernelspec": {
      "name": "python3",
      "display_name": "Python 3"
    },
    "language_info": {
      "name": "python"
    }
  },
  "cells": [
    {
      "cell_type": "code",
      "execution_count": null,
      "metadata": {
        "id": "IEhRxXIAofZH"
      },
      "outputs": [],
      "source": [
        "import pandas as pd\n",
        "import matplotlib.pyplot as plt\n",
        "import seaborn as sns\n",
        "import numpy as np\n",
        "import sklearn\n",
        "from sklearn.model_selection import train_test_split\n",
        "from sklearn.compose import make_column_transformer\n",
        "from sklearn.pipeline import make_pipeline\n",
        "from sklearn.preprocessing import StandardScaler, OneHotEncoder\n",
        "from sklearn.model_selection import cross_val_score\n",
        "from google.colab import drive\n",
        "import random\n",
        "from sklearn.metrics import mean_squared_error, confusion_matrix\n",
        "import time\n",
        "from sklearn.model_selection import GridSearchCV\n",
        "import os\n",
        "import re\n",
        "from sklearn.feature_extraction.text import CountVectorizer\n",
        "from sklearn.metrics import accuracy_score\n",
        "from sklearn.feature_extraction.text import TfidfVectorizer"
      ]
    },
    {
      "cell_type": "code",
      "source": [
        "drive.mount('/content/drive')"
      ],
      "metadata": {
        "colab": {
          "base_uri": "https://localhost:8080/"
        },
        "id": "2F9Q2J78or_o",
        "outputId": "594ba4a8-4c70-43ac-fe3d-30bc33b8fc74"
      },
      "execution_count": null,
      "outputs": [
        {
          "output_type": "stream",
          "name": "stdout",
          "text": [
            "Mounted at /content/drive\n"
          ]
        }
      ]
    },
    {
      "cell_type": "markdown",
      "source": [
        "# Code to load the data"
      ],
      "metadata": {
        "id": "wJ0S50H_pyoa"
      }
    },
    {
      "cell_type": "code",
      "source": [
        "# # Task 1\n",
        "\n",
        "# def load_train_test_imdb_data(data_dir):\n",
        "#     \"\"\"Loads the IMDB train/test datasets from a folder path.\n",
        "#     Input:\n",
        "#     data_dir: path to the \"aclImdb\" folder.\n",
        "    \n",
        "#     Returns:\n",
        "#     train/test datasets as pandas dataframes.\n",
        "#     \"\"\"\n",
        "\n",
        "#     data = {}\n",
        "#     for split in [\"train\", \"test\"]:\n",
        "#         data[split] = []\n",
        "#         for sentiment in [\"neg\", \"pos\"]:\n",
        "#             score = 1 if sentiment == \"pos\" else 0\n",
        "\n",
        "#             path = os.path.join(data_dir, split, sentiment)\n",
        "#             file_names = os.listdir(path)\n",
        "#             for f_name in file_names:\n",
        "#                 with open(os.path.join(path, f_name), \"r\") as f:\n",
        "#                     review = f.read()\n",
        "#                     data[split].append([review, score])\n",
        "\n",
        "#     np.random.shuffle(data[\"train\"])        \n",
        "#     data[\"train\"] = pd.DataFrame(data[\"train\"],\n",
        "#                                  columns=['text', 'sentiment'])\n",
        "#     np.random.shuffle(data[\"test\"])\n",
        "#     data[\"test\"] = pd.DataFrame(data[\"test\"],\n",
        "#                                 columns=['text', 'sentiment'])\n",
        "#     return data[\"train\"], data[\"test\"]\n",
        "\n",
        "\n",
        "\n",
        "# raw_train_data, raw_test_data = load_train_test_imdb_data(data_dir=\"/content/drive/MyDrive/COMP_551/A3/aclImdb/\")\n",
        "\n",
        "# NOTE\n",
        "\n",
        "# This has been commented out and the data is being loaded from the csv files which have been generated using the above code.\n",
        "# This was discussed with the TA"
      ],
      "metadata": {
        "id": "MReyicCaovDv"
      },
      "execution_count": null,
      "outputs": []
    },
    {
      "cell_type": "code",
      "source": [
        "# Temporary load data meachanism since the normal way takes way too long\n",
        "\n",
        "raw_train_data, raw_test_data = pd.read_csv(\"/content/drive/MyDrive/COMP_551/A3/aclImdb/train_data.csv\").drop('Unnamed: 0', axis=1), pd.read_csv(\"/content/drive/MyDrive/COMP_551/A3/aclImdb/test_data.csv\").drop('Unnamed: 0', axis=1)"
      ],
      "metadata": {
        "id": "vzqkem2goyK3"
      },
      "execution_count": null,
      "outputs": []
    },
    {
      "cell_type": "markdown",
      "source": [
        "## Preprocess with lemmatization"
      ],
      "metadata": {
        "id": "oJfEzodKqM7u"
      }
    },
    {
      "cell_type": "code",
      "source": [
        "import nltk\n",
        "nltk.download('punkt')\n",
        "from nltk.corpus import wordnet\n",
        "from nltk.stem import WordNetLemmatizer\n",
        "\n",
        "nltk.download('averaged_perceptron_tagger')\n",
        "nltk.download('wordnet')\n",
        "\n",
        "def preprocess_text(text):\n",
        "    # Lowercase the text\n",
        "    text = text.lower()\n",
        "\n",
        "    # Remove special characters and punctuation\n",
        "    text = re.sub(r'[^\\w\\s]', '', text)\n",
        "\n",
        "    # Tokenize the text\n",
        "    tokens = nltk.word_tokenize(text)\n",
        "\n",
        "    # Perform part-of-speech tagging to lemmatize words\n",
        "    tagged_tokens = nltk.pos_tag(tokens)\n",
        "\n",
        "    # Lemmatize the text\n",
        "    lemmatizer = WordNetLemmatizer()\n",
        "    lemmatized_tokens = []\n",
        "    for token, tag in tagged_tokens:\n",
        "        if tag.startswith('NN'):\n",
        "            pos = wordnet.NOUN\n",
        "        elif tag.startswith('VB'):\n",
        "            pos = wordnet.VERB\n",
        "        elif tag.startswith('JJ'):\n",
        "            pos = wordnet.ADJ\n",
        "        elif tag.startswith('R'):\n",
        "            pos = wordnet.ADV\n",
        "        else:\n",
        "            pos = wordnet.NOUN  # Default to noun if part of speech is not found\n",
        "        lemmatized_tokens.append(lemmatizer.lemmatize(token, pos))\n",
        "\n",
        "    # Remove extra whitespace\n",
        "    text = ' '.join(lemmatized_tokens)\n",
        "    text = re.sub(r'\\s+', ' ', text).strip()\n",
        "\n",
        "    return text\n",
        "\n",
        "raw_train_data['text'] = raw_train_data['text'].apply(preprocess_text)\n",
        "raw_test_data['text'] = raw_test_data['text'].apply(preprocess_text)"
      ],
      "metadata": {
        "id": "6G69fSW5o2qt",
        "colab": {
          "base_uri": "https://localhost:8080/"
        },
        "outputId": "a75bb48a-ff92-4d78-b004-7abf6aa33873"
      },
      "execution_count": null,
      "outputs": [
        {
          "output_type": "stream",
          "name": "stderr",
          "text": [
            "[nltk_data] Downloading package punkt to /root/nltk_data...\n",
            "[nltk_data]   Unzipping tokenizers/punkt.zip.\n",
            "[nltk_data] Downloading package averaged_perceptron_tagger to\n",
            "[nltk_data]     /root/nltk_data...\n",
            "[nltk_data]   Unzipping taggers/averaged_perceptron_tagger.zip.\n",
            "[nltk_data] Downloading package wordnet to /root/nltk_data...\n"
          ]
        }
      ]
    },
    {
      "cell_type": "markdown",
      "source": [
        "## Creating the model"
      ],
      "metadata": {
        "id": "r1kTgYB2qXeY"
      }
    },
    {
      "cell_type": "code",
      "source": [
        "class NaiveBayes:\n",
        "\n",
        "  def __init__(self, alpha = 1):\n",
        "    self.alpha = 1\n",
        "    self.vocabulary = None\n",
        "    self.token_prob_0_log = None\n",
        "    self.token_prob_1_log = None\n",
        "    self.positive_prior = None\n",
        "    self.negative_prior = None\n",
        "    return\n",
        "  \n",
        "  def fit(self, x_train, y_train):\n",
        "\n",
        "    # Creating a list of documents\n",
        "    documents = x_train['text']\n",
        "\n",
        "    # Initializing CountVectorizer\n",
        "    vectorizer = CountVectorizer(stop_words='english')\n",
        "\n",
        "    # Fitting the vectorizer on the documents\n",
        "    vectorizer.fit(documents)\n",
        "\n",
        "    # Getting the vocabulary\n",
        "    self.vocabulary = vectorizer.vocabulary_\n",
        "\n",
        "    # Transforming the documents into a document-term matrix\n",
        "    doc_term_matrix = vectorizer.transform(documents)\n",
        "\n",
        "    # ASK: doc_term_matrix contains tokenized version of each sentence, right?\n",
        "    y_train = y_train\n",
        "\n",
        "    token_count_0 = np.array(doc_term_matrix[y_train == 0].sum(axis=0))[0] + self.alpha # alpha is being added for Laplace transform\n",
        "\n",
        "    # Count of each token in the training data for sentiment=1\n",
        "    token_count_1 = np.array(doc_term_matrix[y_train == 1].sum(axis=0))[0] + self.alpha\n",
        "\n",
        "    # Total count of all tokens in the training data for sentiment=0\n",
        "    total_tokens_0 = np.sum(token_count_0)\n",
        "\n",
        "    # Total count of all tokens in the training data for sentiment=1\n",
        "    total_tokens_1 = np.sum(token_count_1)\n",
        "\n",
        "    # Probability of each token in vocab given sentiment=0\n",
        "    self.token_prob_0_log = np.log(token_count_0 / total_tokens_0)\n",
        "\n",
        "    # Probability of each token in vocab given sentiment=1\n",
        "    self.token_prob_1_log = np.log(token_count_1 / total_tokens_1)\n",
        "    \n",
        "    # prior calculation\n",
        "    positive_count = np.sum(y_train)\n",
        "    negative_count = len(y_train) - positive_count\n",
        "    self.positive_prior = positive_count/len(y_train)\n",
        "    self.negative_prior = negative_count/len(y_train)\n",
        "\n",
        "  def predict(self, x_test, y_test):\n",
        "\n",
        "    y_pred = []\n",
        "\n",
        "    for i in range(len(x_test)):\n",
        "\n",
        "      new_sentence = str(x_test['text'][i])\n",
        "\n",
        "      # Getting the indices of the tokens in the vocabulary, ignoring any words not in the vocabulary\n",
        "      token_indices = [self.vocabulary.get(word, None) for word in new_sentence.split()]\n",
        "      token_indices = [i for i in token_indices if i is not None]\n",
        "\n",
        "      # Get the probabilities of the tokens given sentiment=0\n",
        "      p_sentence_given_sentiment_0 = []\n",
        "      for token_index in token_indices:\n",
        "            prob = self.token_prob_0_log[token_index]\n",
        "            p_sentence_given_sentiment_0.append(prob)\n",
        "\n",
        "      # Get the probabilities of the tokens given sentiment=1\n",
        "      p_sentence_given_sentiment_1 = []\n",
        "      for token_index in token_indices:\n",
        "          prob = self.token_prob_1_log[token_index]\n",
        "          p_sentence_given_sentiment_1.append(prob)\n",
        "\n",
        "      # Actual prediction code follows below\n",
        "\n",
        "      p_sentiment_0_given_sentence = np.log(self.negative_prior) + np.sum(p_sentence_given_sentiment_0)\n",
        "      p_sentiment_1_given_sentence = np.log(self.positive_prior) + np.sum(p_sentence_given_sentiment_1)\n",
        "      if p_sentiment_0_given_sentence>p_sentiment_1_given_sentence:\n",
        "        y_pred.append(0)\n",
        "      else:\n",
        "        y_pred.append(1)\n",
        "    return y_pred\n",
        "\n",
        "  def evaluate_acc(self, y_pred, y_true):\n",
        "    return accuracy_score(y_pred=y_pred, y_true=y_true)"
      ],
      "metadata": {
        "id": "Uqa72z3Ro7FR"
      },
      "execution_count": null,
      "outputs": []
    },
    {
      "cell_type": "markdown",
      "source": [
        "# Training and evaluating the model"
      ],
      "metadata": {
        "id": "HWDcH3bCqhZM"
      }
    },
    {
      "cell_type": "code",
      "source": [
        "model = NaiveBayes()\n",
        "model.fit(raw_train_data, y_train=raw_train_data['sentiment'])"
      ],
      "metadata": {
        "id": "ylUHj_9OpWoM"
      },
      "execution_count": null,
      "outputs": []
    },
    {
      "cell_type": "code",
      "source": [
        "# Train accuracy\n",
        "\n",
        "y_pred = model.predict(raw_train_data, raw_train_data['sentiment'])"
      ],
      "metadata": {
        "id": "rRtieJ6swltp"
      },
      "execution_count": null,
      "outputs": []
    },
    {
      "cell_type": "code",
      "source": [
        "model.evaluate_acc(y_pred=y_pred, y_true=raw_train_data['sentiment'])"
      ],
      "metadata": {
        "colab": {
          "base_uri": "https://localhost:8080/"
        },
        "id": "KqqGniNtwrM2",
        "outputId": "202f3d82-47bc-48bd-fcc5-18d4ef081fec"
      },
      "execution_count": null,
      "outputs": [
        {
          "output_type": "execute_result",
          "data": {
            "text/plain": [
              "0.91944"
            ]
          },
          "metadata": {},
          "execution_count": 12
        }
      ]
    },
    {
      "cell_type": "code",
      "source": [
        "# Test accuracy\n",
        "\n",
        "y_pred = model.predict(raw_test_data, raw_test_data['sentiment'])"
      ],
      "metadata": {
        "id": "qNA8JNzhOuNi"
      },
      "execution_count": null,
      "outputs": []
    },
    {
      "cell_type": "code",
      "source": [
        "model.evaluate_acc(y_pred=y_pred, y_true=raw_test_data['sentiment'])"
      ],
      "metadata": {
        "colab": {
          "base_uri": "https://localhost:8080/"
        },
        "id": "1cTGOlZ6PR7f",
        "outputId": "fab21161-474f-4f6c-f411-dcc98d3a3c39"
      },
      "execution_count": null,
      "outputs": [
        {
          "output_type": "execute_result",
          "data": {
            "text/plain": [
              "0.81756"
            ]
          },
          "metadata": {},
          "execution_count": 14
        }
      ]
    },
    {
      "cell_type": "code",
      "source": [
        "mat=confusion_matrix(y_pred=y_pred, y_true=raw_test_data['sentiment'])"
      ],
      "metadata": {
        "id": "TGqiiKl_xYym"
      },
      "execution_count": null,
      "outputs": []
    },
    {
      "cell_type": "code",
      "source": [
        "group_names = [\"True Neg\",\"False Pos\",\"False Neg\",\"True Pos\"]\n",
        "group_counts = [\"{0:0.0f}\".format(value) for value in\n",
        "                mat.flatten()]\n",
        "group_percentages = [\"{0:.2%}\".format(value) for value in\n",
        "                     mat.flatten()/np.sum(mat)]\n",
        "labels = [f\"{v1}\\n{v2}\\n{v3}\" for v1, v2, v3 in\n",
        "          zip(group_names,group_counts,group_percentages)]\n",
        "labels = np.asarray(labels).reshape(2,2)\n",
        "sns.heatmap(mat, annot=labels, fmt=\"\", cmap='Blues')\n",
        "plt.show()"
      ],
      "metadata": {
        "id": "kqYwHBCnRJlK",
        "colab": {
          "base_uri": "https://localhost:8080/",
          "height": 430
        },
        "outputId": "08d4ab86-b6cf-4b6e-e064-358755f81a84"
      },
      "execution_count": null,
      "outputs": [
        {
          "output_type": "display_data",
          "data": {
            "text/plain": [
              "<Figure size 640x480 with 2 Axes>"
            ],
            "image/png": "[encoded data removed]"
          },
          "metadata": {}
        }
      ]
    },
    {
      "cell_type": "markdown",
      "source": [],
      "metadata": {
        "id": "2ZLoP9YKqs4Z"
      }
    },
    {
      "cell_type": "markdown",
      "source": [
        "# Training and evaluating the model with TFIDF-vectorizer"
      ],
      "metadata": {
        "id": "Fvk_9KxLqtDr"
      }
    },
    {
      "cell_type": "code",
      "source": [
        "class NaiveBayesTFIDF:\n",
        "\n",
        "  def __init__(self, alpha = 1):\n",
        "    self.alpha = 1\n",
        "    self.vocabulary = None\n",
        "    self.token_prob_0_log = None\n",
        "    self.token_prob_1_log = None\n",
        "    self.positive_prior = None\n",
        "    self.negative_prior = None\n",
        "    return\n",
        "  \n",
        "  def fit(self, x_train, y_train):\n",
        "      # Creating a list of documents\n",
        "      documents = x_train['text']\n",
        "\n",
        "      # Initializing TfidfVectorizer\n",
        "      vectorizer = TfidfVectorizer(stop_words='english')\n",
        "\n",
        "      # Fitting the vectorizer on the documents\n",
        "      vectorizer.fit(documents)\n",
        "\n",
        "      # Getting the vocabulary\n",
        "      self.vocabulary = vectorizer.vocabulary_\n",
        "\n",
        "      # Transforming the documents into a TF-IDF weighted document-term matrix\n",
        "      tf_idf_matrix = vectorizer.transform(documents)\n",
        "\n",
        "      # ASK: doc_term_matrix contains tokenized version of each sentence, right?\n",
        "      y_train = y_train\n",
        "\n",
        "      token_count_0 = np.array(tf_idf_matrix[y_train == 0].sum(axis=0))[0] + self.alpha # alpha is being added for Laplace transform\n",
        "\n",
        "      # Count of each token in the training data for sentiment=1\n",
        "      token_count_1 = np.array(tf_idf_matrix[y_train == 1].sum(axis=0))[0] + self.alpha\n",
        "\n",
        "      # Total count of all tokens in the training data for sentiment=0\n",
        "      total_tokens_0 = np.sum(token_count_0)\n",
        "\n",
        "      # Total count of all tokens in the training data for sentiment=1\n",
        "      total_tokens_1 = np.sum(token_count_1)\n",
        "\n",
        "      # Probability of each token in vocab given sentiment=0\n",
        "      self.token_prob_0_log = np.log(token_count_0 / total_tokens_0)\n",
        "\n",
        "      # Probability of each token in vocab given sentiment=1\n",
        "      self.token_prob_1_log = np.log(token_count_1 / total_tokens_1)\n",
        "      \n",
        "      # prior calculation\n",
        "      positive_count = np.sum(y_train)\n",
        "      negative_count = len(y_train) - positive_count\n",
        "      self.positive_prior = positive_count/len(y_train)\n",
        "      self.negative_prior = negative_count/len(y_train)\n",
        "\n",
        "\n",
        "  def predict(self, x_test, y_test):\n",
        "\n",
        "    y_pred = []\n",
        "\n",
        "    for i in range(len(x_test)):\n",
        "\n",
        "      new_sentence = str(x_test['text'][i])\n",
        "\n",
        "      # Getting the indices of the tokens in the vocabulary, ignoring any words not in the vocabulary\n",
        "      token_indices = [self.vocabulary.get(word, None) for word in new_sentence.split()]\n",
        "      token_indices = [i for i in token_indices if i is not None]\n",
        "\n",
        "      # Get the probabilities of the tokens given sentiment=0\n",
        "      p_sentence_given_sentiment_0 = []\n",
        "      for token_index in token_indices:\n",
        "            prob = self.token_prob_0_log[token_index]\n",
        "            p_sentence_given_sentiment_0.append(prob)\n",
        "\n",
        "      # Get the probabilities of the tokens given sentiment=1\n",
        "      p_sentence_given_sentiment_1 = []\n",
        "      for token_index in token_indices:\n",
        "          prob = self.token_prob_1_log[token_index]\n",
        "          p_sentence_given_sentiment_1.append(prob)\n",
        "\n",
        "      # Actual prediction code follows below\n",
        "\n",
        "      p_sentiment_0_given_sentence = np.log(self.negative_prior) + np.sum(p_sentence_given_sentiment_0)\n",
        "      p_sentiment_1_given_sentence = np.log(self.positive_prior) + np.sum(p_sentence_given_sentiment_1)\n",
        "      if p_sentiment_0_given_sentence>p_sentiment_1_given_sentence:\n",
        "        y_pred.append(0)\n",
        "      else:\n",
        "        y_pred.append(1)\n",
        "    return y_pred\n",
        "\n",
        "  def evaluate_acc(self, y_pred, y_true):\n",
        "    return accuracy_score(y_pred=y_pred, y_true=y_true)"
      ],
      "metadata": {
        "id": "IdiwPpzlSWbH"
      },
      "execution_count": null,
      "outputs": []
    },
    {
      "cell_type": "code",
      "source": [
        "model = NaiveBayesTFIDF()\n",
        "model.fit(raw_train_data, y_train=raw_train_data['sentiment'])"
      ],
      "metadata": {
        "id": "EZccrTo3TCIR"
      },
      "execution_count": null,
      "outputs": []
    },
    {
      "cell_type": "code",
      "source": [
        "# Train accuracy\n",
        "\n",
        "y_pred = model.predict(raw_train_data, raw_train_data['sentiment'])\n",
        "model.evaluate_acc(y_pred=y_pred, y_true=raw_train_data['sentiment'])"
      ],
      "metadata": {
        "colab": {
          "base_uri": "https://localhost:8080/"
        },
        "id": "i1EBf9OYUmX_",
        "outputId": "75367747-6f0e-439d-804e-6561e83a304f"
      },
      "execution_count": null,
      "outputs": [
        {
          "output_type": "execute_result",
          "data": {
            "text/plain": [
              "0.8938"
            ]
          },
          "metadata": {},
          "execution_count": 19
        }
      ]
    },
    {
      "cell_type": "code",
      "source": [
        "# Test accuracy\n",
        "\n",
        "y_pred = model.predict(raw_test_data, raw_test_data['sentiment'])\n",
        "model.evaluate_acc(y_pred=y_pred, y_true=raw_test_data['sentiment'])"
      ],
      "metadata": {
        "colab": {
          "base_uri": "https://localhost:8080/"
        },
        "id": "Z5_-ylhNUuhg",
        "outputId": "e103a059-3a0e-4a39-b899-e69858d18fbd"
      },
      "execution_count": null,
      "outputs": [
        {
          "output_type": "execute_result",
          "data": {
            "text/plain": [
              "0.82476"
            ]
          },
          "metadata": {},
          "execution_count": 20
        }
      ]
    },
    {
      "cell_type": "code",
      "source": [
        "mat=confusion_matrix(y_pred=y_pred, y_true=raw_test_data['sentiment'])"
      ],
      "metadata": {
        "id": "4UF_4y5yx1ZF"
      },
      "execution_count": null,
      "outputs": []
    },
    {
      "cell_type": "code",
      "source": [
        "group_names = [\"True Neg\",\"False Pos\",\"False Neg\",\"True Pos\"]\n",
        "group_counts = [\"{0:0.0f}\".format(value) for value in\n",
        "                mat.flatten()]\n",
        "group_percentages = [\"{0:.2%}\".format(value) for value in\n",
        "                     mat.flatten()/np.sum(mat)]\n",
        "labels = [f\"{v1}\\n{v2}\\n{v3}\" for v1, v2, v3 in\n",
        "          zip(group_names,group_counts,group_percentages)]\n",
        "labels = np.asarray(labels).reshape(2,2)\n",
        "sns.heatmap(mat, annot=labels, fmt=\"\", cmap='Blues')\n",
        "plt.show()"
      ],
      "metadata": {
        "colab": {
          "base_uri": "https://localhost:8080/",
          "height": 430
        },
        "id": "DSndxEL5x1ZH",
        "outputId": "bfe1be0d-918b-47b0-bb24-27b0c7cf1ba8"
      },
      "execution_count": null,
      "outputs": [
        {
          "output_type": "display_data",
          "data": {
            "text/plain": [
              "<Figure size 640x480 with 2 Axes>"
            ],
            "image/png": "[encoded data removed]"
          },
          "metadata": {}
        }
      ]
    },
    {
      "cell_type": "markdown",
      "source": [
        "## Training and testing the model without lemmatization"
      ],
      "metadata": {
        "id": "7lJ8vFakrL84"
      }
    },
    {
      "cell_type": "code",
      "source": [
        "# Temporary load data meachanism since the normal way takes way too long\n",
        "\n",
        "raw_train_data, raw_test_data = pd.read_csv(\"/content/drive/MyDrive/COMP_551/A3/aclImdb/train_data.csv\").drop('Unnamed: 0', axis=1), pd.read_csv(\"/content/drive/MyDrive/COMP_551/A3/aclImdb/test_data.csv\").drop('Unnamed: 0', axis=1)"
      ],
      "metadata": {
        "id": "s-zB3rXDrFC-"
      },
      "execution_count": null,
      "outputs": []
    },
    {
      "cell_type": "code",
      "source": [
        "import nltk\n",
        "nltk.download('punkt')\n",
        "from nltk.corpus import wordnet\n",
        "from nltk.stem import WordNetLemmatizer\n",
        "\n",
        "nltk.download('averaged_perceptron_tagger')\n",
        "nltk.download('wordnet')\n",
        "\n",
        "def preprocess_text(text):\n",
        "    # Lowercase the text\n",
        "    text = text.lower()\n",
        "\n",
        "    # Remove special characters and punctuation\n",
        "    text = re.sub(r'[^\\w\\s]', '', text)\n",
        "\n",
        "    # Tokenize the text\n",
        "    tokens = nltk.word_tokenize(text)\n",
        "\n",
        "    return text\n",
        "\n",
        "raw_train_data['text'] = raw_train_data['text'].apply(preprocess_text)\n",
        "raw_test_data['text'] = raw_test_data['text'].apply(preprocess_text)"
      ],
      "metadata": {
        "colab": {
          "base_uri": "https://localhost:8080/"
        },
        "outputId": "d4525802-b13e-4c71-9abc-832b1fd83fd3",
        "id": "DXsYf1pIrFC_"
      },
      "execution_count": null,
      "outputs": [
        {
          "output_type": "stream",
          "name": "stderr",
          "text": [
            "[nltk_data] Downloading package punkt to /root/nltk_data...\n",
            "[nltk_data]   Package punkt is already up-to-date!\n",
            "[nltk_data] Downloading package averaged_perceptron_tagger to\n",
            "[nltk_data]     /root/nltk_data...\n",
            "[nltk_data]   Package averaged_perceptron_tagger is already up-to-\n",
            "[nltk_data]       date!\n",
            "[nltk_data] Downloading package wordnet to /root/nltk_data...\n",
            "[nltk_data]   Package wordnet is already up-to-date!\n"
          ]
        }
      ]
    },
    {
      "cell_type": "code",
      "source": [
        "class NaiveBayes:\n",
        "\n",
        "  def __init__(self, alpha = 1):\n",
        "    self.alpha = 1\n",
        "    self.vocabulary = None\n",
        "    self.token_prob_0_log = None\n",
        "    self.token_prob_1_log = None\n",
        "    self.positive_prior = None\n",
        "    self.negative_prior = None\n",
        "    return\n",
        "  \n",
        "  def fit(self, x_train, y_train):\n",
        "\n",
        "    # Creating a list of documents\n",
        "    documents = x_train['text']\n",
        "\n",
        "    # Initializing CountVectorizer\n",
        "    vectorizer = CountVectorizer(stop_words='english')\n",
        "\n",
        "    # Fitting the vectorizer on the documents\n",
        "    vectorizer.fit(documents)\n",
        "\n",
        "    # Getting the vocabulary\n",
        "    self.vocabulary = vectorizer.vocabulary_\n",
        "\n",
        "    # Transforming the documents into a document-term matrix\n",
        "    doc_term_matrix = vectorizer.transform(documents)\n",
        "\n",
        "    # ASK: doc_term_matrix contains tokenized version of each sentence, right?\n",
        "    y_train = y_train\n",
        "\n",
        "    token_count_0 = np.array(doc_term_matrix[y_train == 0].sum(axis=0))[0] + self.alpha # alpha is being added for Laplace transform\n",
        "\n",
        "    # Count of each token in the training data for sentiment=1\n",
        "    token_count_1 = np.array(doc_term_matrix[y_train == 1].sum(axis=0))[0] + self.alpha\n",
        "\n",
        "    # Total count of all tokens in the training data for sentiment=0\n",
        "    total_tokens_0 = np.sum(token_count_0)\n",
        "\n",
        "    # Total count of all tokens in the training data for sentiment=1\n",
        "    total_tokens_1 = np.sum(token_count_1)\n",
        "\n",
        "    # Probability of each token in vocab given sentiment=0\n",
        "    self.token_prob_0_log = np.log(token_count_0 / total_tokens_0)\n",
        "\n",
        "    # Probability of each token in vocab given sentiment=1\n",
        "    self.token_prob_1_log = np.log(token_count_1 / total_tokens_1)\n",
        "    \n",
        "    # prior calculation\n",
        "    positive_count = np.sum(y_train)\n",
        "    negative_count = len(y_train) - positive_count\n",
        "    self.positive_prior = positive_count/len(y_train)\n",
        "    self.negative_prior = negative_count/len(y_train)\n",
        "\n",
        "  def predict(self, x_test, y_test):\n",
        "\n",
        "    y_pred = []\n",
        "\n",
        "    for i in range(len(x_test)):\n",
        "\n",
        "      new_sentence = str(x_test['text'][i])\n",
        "\n",
        "      # Getting the indices of the tokens in the vocabulary, ignoring any words not in the vocabulary\n",
        "      token_indices = [self.vocabulary.get(word, None) for word in new_sentence.split()]\n",
        "      token_indices = [i for i in token_indices if i is not None]\n",
        "\n",
        "      # Get the probabilities of the tokens given sentiment=0\n",
        "      p_sentence_given_sentiment_0 = []\n",
        "      for token_index in token_indices:\n",
        "            prob = self.token_prob_0_log[token_index]\n",
        "            p_sentence_given_sentiment_0.append(prob)\n",
        "\n",
        "      # Get the probabilities of the tokens given sentiment=1\n",
        "      p_sentence_given_sentiment_1 = []\n",
        "      for token_index in token_indices:\n",
        "          prob = self.token_prob_1_log[token_index]\n",
        "          p_sentence_given_sentiment_1.append(prob)\n",
        "\n",
        "      # Actual prediction code follows below\n",
        "\n",
        "      p_sentiment_0_given_sentence = np.log(self.negative_prior) + np.sum(p_sentence_given_sentiment_0)\n",
        "      p_sentiment_1_given_sentence = np.log(self.positive_prior) + np.sum(p_sentence_given_sentiment_1)\n",
        "      if p_sentiment_0_given_sentence>p_sentiment_1_given_sentence:\n",
        "        y_pred.append(0)\n",
        "      else:\n",
        "        y_pred.append(1)\n",
        "    return y_pred\n",
        "\n",
        "  def evaluate_acc(self, y_pred, y_true):\n",
        "    return accuracy_score(y_pred=y_pred, y_true=y_true)"
      ],
      "metadata": {
        "id": "sLS3OhqBrFC_"
      },
      "execution_count": null,
      "outputs": []
    },
    {
      "cell_type": "code",
      "source": [
        "model = NaiveBayes()\n",
        "model.fit(raw_train_data, y_train=raw_train_data['sentiment'])"
      ],
      "metadata": {
        "id": "aMSC-p85rFDA"
      },
      "execution_count": null,
      "outputs": []
    },
    {
      "cell_type": "code",
      "source": [
        "# Train accuracy\n",
        "\n",
        "y_pred = model.predict(raw_train_data, raw_train_data['sentiment'])"
      ],
      "metadata": {
        "id": "eMIlSSo3rFDA"
      },
      "execution_count": null,
      "outputs": []
    },
    {
      "cell_type": "code",
      "source": [
        "model.evaluate_acc(y_pred=y_pred, y_true=raw_train_data['sentiment'])"
      ],
      "metadata": {
        "colab": {
          "base_uri": "https://localhost:8080/"
        },
        "outputId": "aa98b008-66c9-45ff-d3bb-3ec28979a874",
        "id": "SrUfsjysrFDA"
      },
      "execution_count": null,
      "outputs": [
        {
          "output_type": "execute_result",
          "data": {
            "text/plain": [
              "0.92604"
            ]
          },
          "metadata": {},
          "execution_count": 38
        }
      ]
    },
    {
      "cell_type": "code",
      "source": [
        "# Test accuracy\n",
        "\n",
        "y_pred = model.predict(raw_test_data, raw_test_data['sentiment'])"
      ],
      "metadata": {
        "id": "RD31sVtCrFDA"
      },
      "execution_count": null,
      "outputs": []
    },
    {
      "cell_type": "code",
      "source": [
        "model.evaluate_acc(y_pred=y_pred, y_true=raw_test_data['sentiment'])"
      ],
      "metadata": {
        "colab": {
          "base_uri": "https://localhost:8080/"
        },
        "outputId": "3ef9f05c-7fb0-4261-8e3a-dcbe2bd284b9",
        "id": "M7EwgSXnrFDA"
      },
      "execution_count": null,
      "outputs": [
        {
          "output_type": "execute_result",
          "data": {
            "text/plain": [
              "0.82448"
            ]
          },
          "metadata": {},
          "execution_count": 40
        }
      ]
    },
    {
      "cell_type": "code",
      "source": [
        "mat=confusion_matrix(y_pred=y_pred, y_true=raw_test_data['sentiment'])"
      ],
      "metadata": {
        "id": "tqr9HCiVrFDA"
      },
      "execution_count": null,
      "outputs": []
    },
    {
      "cell_type": "code",
      "source": [
        "group_names = [\"True Neg\",\"False Pos\",\"False Neg\",\"True Pos\"]\n",
        "group_counts = [\"{0:0.0f}\".format(value) for value in\n",
        "                mat.flatten()]\n",
        "group_percentages = [\"{0:.2%}\".format(value) for value in\n",
        "                     mat.flatten()/np.sum(mat)]\n",
        "labels = [f\"{v1}\\n{v2}\\n{v3}\" for v1, v2, v3 in\n",
        "          zip(group_names,group_counts,group_percentages)]\n",
        "labels = np.asarray(labels).reshape(2,2)\n",
        "sns.heatmap(mat, annot=labels, fmt=\"\", cmap='Blues')\n",
        "plt.show()"
      ],
      "metadata": {
        "colab": {
          "base_uri": "https://localhost:8080/",
          "height": 430
        },
        "outputId": "ac81d70b-62a0-4ad6-c143-0050b2162be6",
        "id": "CiHr4OdbrFDA"
      },
      "execution_count": null,
      "outputs": [
        {
          "output_type": "display_data",
          "data": {
            "text/plain": [
              "<Figure size 640x480 with 2 Axes>"
            ],
            "image/png": "[encoded data removed]"
          },
          "metadata": {}
        }
      ]
    }
  ]
}